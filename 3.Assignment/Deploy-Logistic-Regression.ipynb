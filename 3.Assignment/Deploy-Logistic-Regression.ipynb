{
 "cells": [
  {
   "cell_type": "code",
   "execution_count": 15,
   "id": "8e4b9583-1403-4053-a84f-b182e57f1230",
   "metadata": {},
   "outputs": [
    {
     "name": "stderr",
     "output_type": "stream",
     "text": [
      "C:\\ProgramData\\anaconda3\\Lib\\site-packages\\sklearn\\base.py:493: UserWarning: X does not have valid feature names, but StandardScaler was fitted with feature names\n",
      "  warnings.warn(\n"
     ]
    }
   ],
   "source": [
    "import pandas as pd\n",
    "dataset = pd.read_csv(\"CKD.csv\")\n",
    "dataset = pd.get_dummies(dataset, dtype=int, drop_first=True)\n",
    "dataset.columns\n",
    "\n",
    "#independent, dependent variable\n",
    "independent = dataset[['age', 'bp', 'al', 'su', 'bgr', 'bu', 'sc', 'sod', 'pot', 'hrmo', 'pcv',\n",
    "       'wc', 'rc', 'sg_b', 'sg_c', 'sg_d', 'sg_e', 'rbc_normal', 'pc_normal',\n",
    "       'pcc_present', 'ba_present', 'htn_yes', 'dm_yes', 'cad_yes',\n",
    "       'appet_yes', 'pe_yes', 'ane_yes']]\n",
    "dependent = dataset[['classification_yes']]\n",
    "\n",
    "from sklearn.preprocessing import StandardScaler\n",
    "sc = StandardScaler()\n",
    "independent = sc.fit_transform(independent)\n",
    "independent = sc.transform(independent)"
   ]
  },
  {
   "cell_type": "code",
   "execution_count": 17,
   "id": "6e88b603-fbea-4381-a5d8-5e9c1c91111e",
   "metadata": {},
   "outputs": [],
   "source": [
    "import pickle\n",
    "filename = \"Save_Logistic-Regression.sav\""
   ]
  },
  {
   "cell_type": "code",
   "execution_count": 19,
   "id": "e571ff62-5448-4e11-bb00-34ad0db8fe40",
   "metadata": {},
   "outputs": [
    {
     "name": "stderr",
     "output_type": "stream",
     "text": [
      "C:\\ProgramData\\anaconda3\\Lib\\site-packages\\sklearn\\base.py:493: UserWarning: X does not have valid feature names, but StandardScaler was fitted with feature names\n",
      "  warnings.warn(\n"
     ]
    }
   ],
   "source": [
    "preinput = sc.transform([[2,76.459948,3,0,148.112676,57.482105,3.077356,137.528754,4.627244,12.518156,38.868902,8408.191126,4.705597\t,0,\t1,\t0,\t0,\t1,\t0,\t0,\t0,\t0,\t0,\t0,\t1,\t1,\t0]])\t"
   ]
  },
  {
   "cell_type": "code",
   "execution_count": 21,
   "id": "65b967be-3218-4f54-bb78-d6a5e1c1d360",
   "metadata": {},
   "outputs": [],
   "source": [
    "loaded_model = pickle.load(open(filename,'rb'))"
   ]
  },
  {
   "cell_type": "code",
   "execution_count": 23,
   "id": "aeb01779-2857-4bc0-b1d2-e585a3d158e6",
   "metadata": {},
   "outputs": [
    {
     "data": {
      "text/plain": [
       "array([0])"
      ]
     },
     "execution_count": 23,
     "metadata": {},
     "output_type": "execute_result"
    }
   ],
   "source": [
    "result = loaded_model.predict(preinput)\n",
    "result"
   ]
  },
  {
   "cell_type": "code",
   "execution_count": null,
   "id": "0f94029c-7f24-41c1-8e11-442515a51a68",
   "metadata": {},
   "outputs": [],
   "source": []
  },
  {
   "cell_type": "code",
   "execution_count": null,
   "id": "0b03f76b-1c7e-4133-8951-9dae4eab85c8",
   "metadata": {},
   "outputs": [],
   "source": []
  }
 ],
 "metadata": {
  "kernelspec": {
   "display_name": "Python 3 (ipykernel)",
   "language": "python",
   "name": "python3"
  },
  "language_info": {
   "codemirror_mode": {
    "name": "ipython",
    "version": 3
   },
   "file_extension": ".py",
   "mimetype": "text/x-python",
   "name": "python",
   "nbconvert_exporter": "python",
   "pygments_lexer": "ipython3",
   "version": "3.12.4"
  }
 },
 "nbformat": 4,
 "nbformat_minor": 5
}
