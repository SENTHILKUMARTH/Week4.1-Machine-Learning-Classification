{
 "cells": [
  {
   "cell_type": "code",
   "execution_count": 21,
   "id": "00354c94-a814-4555-9c21-6eb2172e3730",
   "metadata": {},
   "outputs": [],
   "source": [
    "import pandas as pd\n",
    "dataset = pd.read_csv(\"CKD.csv\")\n",
    "dataset = pd.get_dummies(dataset, dtype=int, drop_first=True)\n",
    "dataset.columns\n",
    "\n",
    "#independent, dependent variable\n",
    "independent = dataset[['age', 'bp', 'al', 'su', 'bgr', 'bu', 'sc', 'sod', 'pot', 'hrmo', 'pcv',\n",
    "       'wc', 'rc', 'sg_b', 'sg_c', 'sg_d', 'sg_e', 'rbc_normal', 'pc_normal',\n",
    "       'pcc_present', 'ba_present', 'htn_yes', 'dm_yes', 'cad_yes',\n",
    "       'appet_yes', 'pe_yes', 'ane_yes']]\n",
    "dependent = dataset[['classification_yes']]"
   ]
  },
  {
   "cell_type": "code",
   "execution_count": 23,
   "id": "b2c761b0-179f-4b95-b4b0-74dbeafc61f0",
   "metadata": {},
   "outputs": [
    {
     "name": "stdout",
     "output_type": "stream",
     "text": [
      "Fitting 5 folds for each of 40 candidates, totalling 200 fits\n",
      "[CV 1/5] END alpha=0.1, fit_prior=True, force_alpha=True;, score=0.700 total time=   0.0s\n"
     ]
    },
    {
     "name": "stderr",
     "output_type": "stream",
     "text": [
      "C:\\ProgramData\\anaconda3\\Lib\\site-packages\\sklearn\\utils\\validation.py:1300: DataConversionWarning: A column-vector y was passed when a 1d array was expected. Please change the shape of y to (n_samples, ), for example using ravel().\n",
      "  y = column_or_1d(y, warn=True)\n",
      "C:\\ProgramData\\anaconda3\\Lib\\site-packages\\sklearn\\utils\\validation.py:1300: DataConversionWarning: A column-vector y was passed when a 1d array was expected. Please change the shape of y to (n_samples, ), for example using ravel().\n",
      "  y = column_or_1d(y, warn=True)\n"
     ]
    },
    {
     "name": "stdout",
     "output_type": "stream",
     "text": [
      "[CV 2/5] END alpha=0.1, fit_prior=True, force_alpha=True;, score=0.913 total time=   0.1s\n",
      "[CV 3/5] END alpha=0.1, fit_prior=True, force_alpha=True;, score=0.948 total time=   0.0s\n"
     ]
    },
    {
     "name": "stderr",
     "output_type": "stream",
     "text": [
      "C:\\ProgramData\\anaconda3\\Lib\\site-packages\\sklearn\\utils\\validation.py:1300: DataConversionWarning: A column-vector y was passed when a 1d array was expected. Please change the shape of y to (n_samples, ), for example using ravel().\n",
      "  y = column_or_1d(y, warn=True)\n",
      "C:\\ProgramData\\anaconda3\\Lib\\site-packages\\sklearn\\utils\\validation.py:1300: DataConversionWarning: A column-vector y was passed when a 1d array was expected. Please change the shape of y to (n_samples, ), for example using ravel().\n",
      "  y = column_or_1d(y, warn=True)\n"
     ]
    },
    {
     "name": "stdout",
     "output_type": "stream",
     "text": [
      "[CV 4/5] END alpha=0.1, fit_prior=True, force_alpha=True;, score=0.936 total time=   0.0s\n",
      "[CV 5/5] END alpha=0.1, fit_prior=True, force_alpha=True;, score=0.948 total time=   0.1s\n"
     ]
    },
    {
     "name": "stderr",
     "output_type": "stream",
     "text": [
      "C:\\ProgramData\\anaconda3\\Lib\\site-packages\\sklearn\\utils\\validation.py:1300: DataConversionWarning: A column-vector y was passed when a 1d array was expected. Please change the shape of y to (n_samples, ), for example using ravel().\n",
      "  y = column_or_1d(y, warn=True)\n",
      "C:\\ProgramData\\anaconda3\\Lib\\site-packages\\sklearn\\utils\\validation.py:1300: DataConversionWarning: A column-vector y was passed when a 1d array was expected. Please change the shape of y to (n_samples, ), for example using ravel().\n",
      "  y = column_or_1d(y, warn=True)\n"
     ]
    },
    {
     "name": "stdout",
     "output_type": "stream",
     "text": [
      "[CV 1/5] END alpha=0.1, fit_prior=True, force_alpha=False;, score=0.700 total time=   0.0s\n",
      "[CV 2/5] END alpha=0.1, fit_prior=True, force_alpha=False;, score=0.913 total time=   0.0s\n"
     ]
    },
    {
     "name": "stderr",
     "output_type": "stream",
     "text": [
      "C:\\ProgramData\\anaconda3\\Lib\\site-packages\\sklearn\\utils\\validation.py:1300: DataConversionWarning: A column-vector y was passed when a 1d array was expected. Please change the shape of y to (n_samples, ), for example using ravel().\n",
      "  y = column_or_1d(y, warn=True)\n",
      "C:\\ProgramData\\anaconda3\\Lib\\site-packages\\sklearn\\utils\\validation.py:1300: DataConversionWarning: A column-vector y was passed when a 1d array was expected. Please change the shape of y to (n_samples, ), for example using ravel().\n",
      "  y = column_or_1d(y, warn=True)\n"
     ]
    },
    {
     "name": "stdout",
     "output_type": "stream",
     "text": [
      "[CV 3/5] END alpha=0.1, fit_prior=True, force_alpha=False;, score=0.948 total time=   0.1s\n",
      "[CV 4/5] END alpha=0.1, fit_prior=True, force_alpha=False;, score=0.936 total time=   0.1s\n"
     ]
    },
    {
     "name": "stderr",
     "output_type": "stream",
     "text": [
      "C:\\ProgramData\\anaconda3\\Lib\\site-packages\\sklearn\\utils\\validation.py:1300: DataConversionWarning: A column-vector y was passed when a 1d array was expected. Please change the shape of y to (n_samples, ), for example using ravel().\n",
      "  y = column_or_1d(y, warn=True)\n",
      "C:\\ProgramData\\anaconda3\\Lib\\site-packages\\sklearn\\utils\\validation.py:1300: DataConversionWarning: A column-vector y was passed when a 1d array was expected. Please change the shape of y to (n_samples, ), for example using ravel().\n",
      "  y = column_or_1d(y, warn=True)\n"
     ]
    },
    {
     "name": "stdout",
     "output_type": "stream",
     "text": [
      "[CV 5/5] END alpha=0.1, fit_prior=True, force_alpha=False;, score=0.948 total time=   0.1s\n",
      "[CV 1/5] END alpha=0.1, fit_prior=False, force_alpha=True;, score=0.700 total time=   0.0s\n"
     ]
    },
    {
     "name": "stderr",
     "output_type": "stream",
     "text": [
      "C:\\ProgramData\\anaconda3\\Lib\\site-packages\\sklearn\\utils\\validation.py:1300: DataConversionWarning: A column-vector y was passed when a 1d array was expected. Please change the shape of y to (n_samples, ), for example using ravel().\n",
      "  y = column_or_1d(y, warn=True)\n",
      "C:\\ProgramData\\anaconda3\\Lib\\site-packages\\sklearn\\utils\\validation.py:1300: DataConversionWarning: A column-vector y was passed when a 1d array was expected. Please change the shape of y to (n_samples, ), for example using ravel().\n",
      "  y = column_or_1d(y, warn=True)\n"
     ]
    },
    {
     "name": "stdout",
     "output_type": "stream",
     "text": [
      "[CV 2/5] END alpha=0.1, fit_prior=False, force_alpha=True;, score=0.913 total time=   0.0s\n",
      "[CV 3/5] END alpha=0.1, fit_prior=False, force_alpha=True;, score=0.948 total time=   0.0s\n"
     ]
    },
    {
     "name": "stderr",
     "output_type": "stream",
     "text": [
      "C:\\ProgramData\\anaconda3\\Lib\\site-packages\\sklearn\\utils\\validation.py:1300: DataConversionWarning: A column-vector y was passed when a 1d array was expected. Please change the shape of y to (n_samples, ), for example using ravel().\n",
      "  y = column_or_1d(y, warn=True)\n",
      "C:\\ProgramData\\anaconda3\\Lib\\site-packages\\sklearn\\utils\\validation.py:1300: DataConversionWarning: A column-vector y was passed when a 1d array was expected. Please change the shape of y to (n_samples, ), for example using ravel().\n",
      "  y = column_or_1d(y, warn=True)\n"
     ]
    },
    {
     "name": "stdout",
     "output_type": "stream",
     "text": [
      "[CV 4/5] END alpha=0.1, fit_prior=False, force_alpha=True;, score=0.936 total time=   0.1s\n",
      "[CV 5/5] END alpha=0.1, fit_prior=False, force_alpha=True;, score=0.948 total time=   0.0s\n"
     ]
    },
    {
     "name": "stderr",
     "output_type": "stream",
     "text": [
      "C:\\ProgramData\\anaconda3\\Lib\\site-packages\\sklearn\\utils\\validation.py:1300: DataConversionWarning: A column-vector y was passed when a 1d array was expected. Please change the shape of y to (n_samples, ), for example using ravel().\n",
      "  y = column_or_1d(y, warn=True)\n",
      "C:\\ProgramData\\anaconda3\\Lib\\site-packages\\sklearn\\utils\\validation.py:1300: DataConversionWarning: A column-vector y was passed when a 1d array was expected. Please change the shape of y to (n_samples, ), for example using ravel().\n",
      "  y = column_or_1d(y, warn=True)\n"
     ]
    },
    {
     "name": "stdout",
     "output_type": "stream",
     "text": [
      "[CV 1/5] END alpha=0.1, fit_prior=False, force_alpha=False;, score=0.700 total time=   0.0s\n",
      "[CV 2/5] END alpha=0.1, fit_prior=False, force_alpha=False;, score=0.913 total time=   0.1s\n"
     ]
    },
    {
     "name": "stderr",
     "output_type": "stream",
     "text": [
      "C:\\ProgramData\\anaconda3\\Lib\\site-packages\\sklearn\\utils\\validation.py:1300: DataConversionWarning: A column-vector y was passed when a 1d array was expected. Please change the shape of y to (n_samples, ), for example using ravel().\n",
      "  y = column_or_1d(y, warn=True)\n",
      "C:\\ProgramData\\anaconda3\\Lib\\site-packages\\sklearn\\utils\\validation.py:1300: DataConversionWarning: A column-vector y was passed when a 1d array was expected. Please change the shape of y to (n_samples, ), for example using ravel().\n",
      "  y = column_or_1d(y, warn=True)\n"
     ]
    },
    {
     "name": "stdout",
     "output_type": "stream",
     "text": [
      "[CV 3/5] END alpha=0.1, fit_prior=False, force_alpha=False;, score=0.948 total time=   0.0s\n",
      "[CV 4/5] END alpha=0.1, fit_prior=False, force_alpha=False;, score=0.936 total time=   0.0s\n"
     ]
    },
    {
     "name": "stderr",
     "output_type": "stream",
     "text": [
      "C:\\ProgramData\\anaconda3\\Lib\\site-packages\\sklearn\\utils\\validation.py:1300: DataConversionWarning: A column-vector y was passed when a 1d array was expected. Please change the shape of y to (n_samples, ), for example using ravel().\n",
      "  y = column_or_1d(y, warn=True)\n",
      "C:\\ProgramData\\anaconda3\\Lib\\site-packages\\sklearn\\utils\\validation.py:1300: DataConversionWarning: A column-vector y was passed when a 1d array was expected. Please change the shape of y to (n_samples, ), for example using ravel().\n",
      "  y = column_or_1d(y, warn=True)\n"
     ]
    },
    {
     "name": "stdout",
     "output_type": "stream",
     "text": [
      "[CV 5/5] END alpha=0.1, fit_prior=False, force_alpha=False;, score=0.948 total time=   0.0s\n",
      "[CV 1/5] END alpha=0.2, fit_prior=True, force_alpha=True;, score=0.667 total time=   0.1s\n"
     ]
    },
    {
     "name": "stderr",
     "output_type": "stream",
     "text": [
      "C:\\ProgramData\\anaconda3\\Lib\\site-packages\\sklearn\\utils\\validation.py:1300: DataConversionWarning: A column-vector y was passed when a 1d array was expected. Please change the shape of y to (n_samples, ), for example using ravel().\n",
      "  y = column_or_1d(y, warn=True)\n",
      "C:\\ProgramData\\anaconda3\\Lib\\site-packages\\sklearn\\utils\\validation.py:1300: DataConversionWarning: A column-vector y was passed when a 1d array was expected. Please change the shape of y to (n_samples, ), for example using ravel().\n",
      "  y = column_or_1d(y, warn=True)\n"
     ]
    },
    {
     "name": "stdout",
     "output_type": "stream",
     "text": [
      "[CV 2/5] END alpha=0.2, fit_prior=True, force_alpha=True;, score=0.901 total time=   0.0s\n",
      "[CV 3/5] END alpha=0.2, fit_prior=True, force_alpha=True;, score=0.938 total time=   0.0s\n"
     ]
    },
    {
     "name": "stderr",
     "output_type": "stream",
     "text": [
      "C:\\ProgramData\\anaconda3\\Lib\\site-packages\\sklearn\\utils\\validation.py:1300: DataConversionWarning: A column-vector y was passed when a 1d array was expected. Please change the shape of y to (n_samples, ), for example using ravel().\n",
      "  y = column_or_1d(y, warn=True)\n",
      "C:\\ProgramData\\anaconda3\\Lib\\site-packages\\sklearn\\utils\\validation.py:1300: DataConversionWarning: A column-vector y was passed when a 1d array was expected. Please change the shape of y to (n_samples, ), for example using ravel().\n",
      "  y = column_or_1d(y, warn=True)\n"
     ]
    },
    {
     "name": "stdout",
     "output_type": "stream",
     "text": [
      "[CV 4/5] END alpha=0.2, fit_prior=True, force_alpha=True;, score=0.936 total time=   0.0s\n",
      "[CV 5/5] END alpha=0.2, fit_prior=True, force_alpha=True;, score=0.938 total time=   0.0s\n"
     ]
    },
    {
     "name": "stderr",
     "output_type": "stream",
     "text": [
      "C:\\ProgramData\\anaconda3\\Lib\\site-packages\\sklearn\\utils\\validation.py:1300: DataConversionWarning: A column-vector y was passed when a 1d array was expected. Please change the shape of y to (n_samples, ), for example using ravel().\n",
      "  y = column_or_1d(y, warn=True)\n",
      "C:\\ProgramData\\anaconda3\\Lib\\site-packages\\sklearn\\utils\\validation.py:1300: DataConversionWarning: A column-vector y was passed when a 1d array was expected. Please change the shape of y to (n_samples, ), for example using ravel().\n",
      "  y = column_or_1d(y, warn=True)\n"
     ]
    },
    {
     "name": "stdout",
     "output_type": "stream",
     "text": [
      "[CV 1/5] END alpha=0.2, fit_prior=True, force_alpha=False;, score=0.667 total time=   0.1s\n",
      "[CV 2/5] END alpha=0.2, fit_prior=True, force_alpha=False;, score=0.901 total time=   0.0s\n"
     ]
    },
    {
     "name": "stderr",
     "output_type": "stream",
     "text": [
      "C:\\ProgramData\\anaconda3\\Lib\\site-packages\\sklearn\\utils\\validation.py:1300: DataConversionWarning: A column-vector y was passed when a 1d array was expected. Please change the shape of y to (n_samples, ), for example using ravel().\n",
      "  y = column_or_1d(y, warn=True)\n",
      "C:\\ProgramData\\anaconda3\\Lib\\site-packages\\sklearn\\utils\\validation.py:1300: DataConversionWarning: A column-vector y was passed when a 1d array was expected. Please change the shape of y to (n_samples, ), for example using ravel().\n",
      "  y = column_or_1d(y, warn=True)\n"
     ]
    },
    {
     "name": "stdout",
     "output_type": "stream",
     "text": [
      "[CV 3/5] END alpha=0.2, fit_prior=True, force_alpha=False;, score=0.938 total time=   0.0s\n",
      "[CV 4/5] END alpha=0.2, fit_prior=True, force_alpha=False;, score=0.936 total time=   0.0s\n"
     ]
    },
    {
     "name": "stderr",
     "output_type": "stream",
     "text": [
      "C:\\ProgramData\\anaconda3\\Lib\\site-packages\\sklearn\\utils\\validation.py:1300: DataConversionWarning: A column-vector y was passed when a 1d array was expected. Please change the shape of y to (n_samples, ), for example using ravel().\n",
      "  y = column_or_1d(y, warn=True)\n",
      "C:\\ProgramData\\anaconda3\\Lib\\site-packages\\sklearn\\utils\\validation.py:1300: DataConversionWarning: A column-vector y was passed when a 1d array was expected. Please change the shape of y to (n_samples, ), for example using ravel().\n",
      "  y = column_or_1d(y, warn=True)\n"
     ]
    },
    {
     "name": "stdout",
     "output_type": "stream",
     "text": [
      "[CV 5/5] END alpha=0.2, fit_prior=True, force_alpha=False;, score=0.938 total time=   0.1s\n",
      "[CV 1/5] END alpha=0.2, fit_prior=False, force_alpha=True;, score=0.667 total time=   0.0s\n"
     ]
    },
    {
     "name": "stderr",
     "output_type": "stream",
     "text": [
      "C:\\ProgramData\\anaconda3\\Lib\\site-packages\\sklearn\\utils\\validation.py:1300: DataConversionWarning: A column-vector y was passed when a 1d array was expected. Please change the shape of y to (n_samples, ), for example using ravel().\n",
      "  y = column_or_1d(y, warn=True)\n",
      "C:\\ProgramData\\anaconda3\\Lib\\site-packages\\sklearn\\utils\\validation.py:1300: DataConversionWarning: A column-vector y was passed when a 1d array was expected. Please change the shape of y to (n_samples, ), for example using ravel().\n",
      "  y = column_or_1d(y, warn=True)\n"
     ]
    },
    {
     "name": "stdout",
     "output_type": "stream",
     "text": [
      "[CV 2/5] END alpha=0.2, fit_prior=False, force_alpha=True;, score=0.901 total time=   0.0s\n",
      "[CV 3/5] END alpha=0.2, fit_prior=False, force_alpha=True;, score=0.938 total time=   0.1s\n"
     ]
    },
    {
     "name": "stderr",
     "output_type": "stream",
     "text": [
      "C:\\ProgramData\\anaconda3\\Lib\\site-packages\\sklearn\\utils\\validation.py:1300: DataConversionWarning: A column-vector y was passed when a 1d array was expected. Please change the shape of y to (n_samples, ), for example using ravel().\n",
      "  y = column_or_1d(y, warn=True)\n",
      "C:\\ProgramData\\anaconda3\\Lib\\site-packages\\sklearn\\utils\\validation.py:1300: DataConversionWarning: A column-vector y was passed when a 1d array was expected. Please change the shape of y to (n_samples, ), for example using ravel().\n",
      "  y = column_or_1d(y, warn=True)\n"
     ]
    },
    {
     "name": "stdout",
     "output_type": "stream",
     "text": [
      "[CV 4/5] END alpha=0.2, fit_prior=False, force_alpha=True;, score=0.936 total time=   0.1s\n",
      "[CV 5/5] END alpha=0.2, fit_prior=False, force_alpha=True;, score=0.938 total time=   0.0s\n"
     ]
    },
    {
     "name": "stderr",
     "output_type": "stream",
     "text": [
      "C:\\ProgramData\\anaconda3\\Lib\\site-packages\\sklearn\\utils\\validation.py:1300: DataConversionWarning: A column-vector y was passed when a 1d array was expected. Please change the shape of y to (n_samples, ), for example using ravel().\n",
      "  y = column_or_1d(y, warn=True)\n",
      "C:\\ProgramData\\anaconda3\\Lib\\site-packages\\sklearn\\utils\\validation.py:1300: DataConversionWarning: A column-vector y was passed when a 1d array was expected. Please change the shape of y to (n_samples, ), for example using ravel().\n",
      "  y = column_or_1d(y, warn=True)\n"
     ]
    },
    {
     "name": "stdout",
     "output_type": "stream",
     "text": [
      "[CV 1/5] END alpha=0.2, fit_prior=False, force_alpha=False;, score=0.667 total time=   0.0s\n",
      "[CV 2/5] END alpha=0.2, fit_prior=False, force_alpha=False;, score=0.901 total time=   0.0s\n"
     ]
    },
    {
     "name": "stderr",
     "output_type": "stream",
     "text": [
      "C:\\ProgramData\\anaconda3\\Lib\\site-packages\\sklearn\\utils\\validation.py:1300: DataConversionWarning: A column-vector y was passed when a 1d array was expected. Please change the shape of y to (n_samples, ), for example using ravel().\n",
      "  y = column_or_1d(y, warn=True)\n",
      "C:\\ProgramData\\anaconda3\\Lib\\site-packages\\sklearn\\utils\\validation.py:1300: DataConversionWarning: A column-vector y was passed when a 1d array was expected. Please change the shape of y to (n_samples, ), for example using ravel().\n",
      "  y = column_or_1d(y, warn=True)\n"
     ]
    },
    {
     "name": "stdout",
     "output_type": "stream",
     "text": [
      "[CV 3/5] END alpha=0.2, fit_prior=False, force_alpha=False;, score=0.938 total time=   0.0s\n",
      "[CV 4/5] END alpha=0.2, fit_prior=False, force_alpha=False;, score=0.936 total time=   0.0s\n"
     ]
    },
    {
     "name": "stderr",
     "output_type": "stream",
     "text": [
      "C:\\ProgramData\\anaconda3\\Lib\\site-packages\\sklearn\\utils\\validation.py:1300: DataConversionWarning: A column-vector y was passed when a 1d array was expected. Please change the shape of y to (n_samples, ), for example using ravel().\n",
      "  y = column_or_1d(y, warn=True)\n",
      "C:\\ProgramData\\anaconda3\\Lib\\site-packages\\sklearn\\utils\\validation.py:1300: DataConversionWarning: A column-vector y was passed when a 1d array was expected. Please change the shape of y to (n_samples, ), for example using ravel().\n",
      "  y = column_or_1d(y, warn=True)\n"
     ]
    },
    {
     "name": "stdout",
     "output_type": "stream",
     "text": [
      "[CV 5/5] END alpha=0.2, fit_prior=False, force_alpha=False;, score=0.938 total time=   0.0s\n",
      "[CV 1/5] END alpha=0.3, fit_prior=True, force_alpha=True;, score=0.667 total time=   0.0s\n"
     ]
    },
    {
     "name": "stderr",
     "output_type": "stream",
     "text": [
      "C:\\ProgramData\\anaconda3\\Lib\\site-packages\\sklearn\\utils\\validation.py:1300: DataConversionWarning: A column-vector y was passed when a 1d array was expected. Please change the shape of y to (n_samples, ), for example using ravel().\n",
      "  y = column_or_1d(y, warn=True)\n",
      "C:\\ProgramData\\anaconda3\\Lib\\site-packages\\sklearn\\utils\\validation.py:1300: DataConversionWarning: A column-vector y was passed when a 1d array was expected. Please change the shape of y to (n_samples, ), for example using ravel().\n",
      "  y = column_or_1d(y, warn=True)\n"
     ]
    },
    {
     "name": "stdout",
     "output_type": "stream",
     "text": [
      "[CV 2/5] END alpha=0.3, fit_prior=True, force_alpha=True;, score=0.901 total time=   0.0s\n",
      "[CV 3/5] END alpha=0.3, fit_prior=True, force_alpha=True;, score=0.938 total time=   0.0s\n"
     ]
    },
    {
     "name": "stderr",
     "output_type": "stream",
     "text": [
      "C:\\ProgramData\\anaconda3\\Lib\\site-packages\\sklearn\\utils\\validation.py:1300: DataConversionWarning: A column-vector y was passed when a 1d array was expected. Please change the shape of y to (n_samples, ), for example using ravel().\n",
      "  y = column_or_1d(y, warn=True)\n",
      "C:\\ProgramData\\anaconda3\\Lib\\site-packages\\sklearn\\utils\\validation.py:1300: DataConversionWarning: A column-vector y was passed when a 1d array was expected. Please change the shape of y to (n_samples, ), for example using ravel().\n",
      "  y = column_or_1d(y, warn=True)\n"
     ]
    },
    {
     "name": "stdout",
     "output_type": "stream",
     "text": [
      "[CV 4/5] END alpha=0.3, fit_prior=True, force_alpha=True;, score=0.936 total time=   0.0s\n",
      "[CV 5/5] END alpha=0.3, fit_prior=True, force_alpha=True;, score=0.938 total time=   0.1s\n"
     ]
    },
    {
     "name": "stderr",
     "output_type": "stream",
     "text": [
      "C:\\ProgramData\\anaconda3\\Lib\\site-packages\\sklearn\\utils\\validation.py:1300: DataConversionWarning: A column-vector y was passed when a 1d array was expected. Please change the shape of y to (n_samples, ), for example using ravel().\n",
      "  y = column_or_1d(y, warn=True)\n",
      "C:\\ProgramData\\anaconda3\\Lib\\site-packages\\sklearn\\utils\\validation.py:1300: DataConversionWarning: A column-vector y was passed when a 1d array was expected. Please change the shape of y to (n_samples, ), for example using ravel().\n",
      "  y = column_or_1d(y, warn=True)\n"
     ]
    },
    {
     "name": "stdout",
     "output_type": "stream",
     "text": [
      "[CV 1/5] END alpha=0.3, fit_prior=True, force_alpha=False;, score=0.667 total time=   0.1s\n",
      "[CV 2/5] END alpha=0.3, fit_prior=True, force_alpha=False;, score=0.901 total time=   0.0s\n"
     ]
    },
    {
     "name": "stderr",
     "output_type": "stream",
     "text": [
      "C:\\ProgramData\\anaconda3\\Lib\\site-packages\\sklearn\\utils\\validation.py:1300: DataConversionWarning: A column-vector y was passed when a 1d array was expected. Please change the shape of y to (n_samples, ), for example using ravel().\n",
      "  y = column_or_1d(y, warn=True)\n",
      "C:\\ProgramData\\anaconda3\\Lib\\site-packages\\sklearn\\utils\\validation.py:1300: DataConversionWarning: A column-vector y was passed when a 1d array was expected. Please change the shape of y to (n_samples, ), for example using ravel().\n",
      "  y = column_or_1d(y, warn=True)\n"
     ]
    },
    {
     "name": "stdout",
     "output_type": "stream",
     "text": [
      "[CV 3/5] END alpha=0.3, fit_prior=True, force_alpha=False;, score=0.938 total time=   0.1s\n",
      "[CV 4/5] END alpha=0.3, fit_prior=True, force_alpha=False;, score=0.936 total time=   0.0s\n"
     ]
    },
    {
     "name": "stderr",
     "output_type": "stream",
     "text": [
      "C:\\ProgramData\\anaconda3\\Lib\\site-packages\\sklearn\\utils\\validation.py:1300: DataConversionWarning: A column-vector y was passed when a 1d array was expected. Please change the shape of y to (n_samples, ), for example using ravel().\n",
      "  y = column_or_1d(y, warn=True)\n",
      "C:\\ProgramData\\anaconda3\\Lib\\site-packages\\sklearn\\utils\\validation.py:1300: DataConversionWarning: A column-vector y was passed when a 1d array was expected. Please change the shape of y to (n_samples, ), for example using ravel().\n",
      "  y = column_or_1d(y, warn=True)\n"
     ]
    },
    {
     "name": "stdout",
     "output_type": "stream",
     "text": [
      "[CV 5/5] END alpha=0.3, fit_prior=True, force_alpha=False;, score=0.938 total time=   0.0s\n",
      "[CV 1/5] END alpha=0.3, fit_prior=False, force_alpha=True;, score=0.667 total time=   0.1s\n"
     ]
    },
    {
     "name": "stderr",
     "output_type": "stream",
     "text": [
      "C:\\ProgramData\\anaconda3\\Lib\\site-packages\\sklearn\\utils\\validation.py:1300: DataConversionWarning: A column-vector y was passed when a 1d array was expected. Please change the shape of y to (n_samples, ), for example using ravel().\n",
      "  y = column_or_1d(y, warn=True)\n",
      "C:\\ProgramData\\anaconda3\\Lib\\site-packages\\sklearn\\utils\\validation.py:1300: DataConversionWarning: A column-vector y was passed when a 1d array was expected. Please change the shape of y to (n_samples, ), for example using ravel().\n",
      "  y = column_or_1d(y, warn=True)\n"
     ]
    },
    {
     "name": "stdout",
     "output_type": "stream",
     "text": [
      "[CV 2/5] END alpha=0.3, fit_prior=False, force_alpha=True;, score=0.901 total time=   0.0s\n",
      "[CV 3/5] END alpha=0.3, fit_prior=False, force_alpha=True;, score=0.938 total time=   0.0s\n"
     ]
    },
    {
     "name": "stderr",
     "output_type": "stream",
     "text": [
      "C:\\ProgramData\\anaconda3\\Lib\\site-packages\\sklearn\\utils\\validation.py:1300: DataConversionWarning: A column-vector y was passed when a 1d array was expected. Please change the shape of y to (n_samples, ), for example using ravel().\n",
      "  y = column_or_1d(y, warn=True)\n",
      "C:\\ProgramData\\anaconda3\\Lib\\site-packages\\sklearn\\utils\\validation.py:1300: DataConversionWarning: A column-vector y was passed when a 1d array was expected. Please change the shape of y to (n_samples, ), for example using ravel().\n",
      "  y = column_or_1d(y, warn=True)\n"
     ]
    },
    {
     "name": "stdout",
     "output_type": "stream",
     "text": [
      "[CV 4/5] END alpha=0.3, fit_prior=False, force_alpha=True;, score=0.936 total time=   0.0s\n",
      "[CV 5/5] END alpha=0.3, fit_prior=False, force_alpha=True;, score=0.938 total time=   0.0s\n"
     ]
    },
    {
     "name": "stderr",
     "output_type": "stream",
     "text": [
      "C:\\ProgramData\\anaconda3\\Lib\\site-packages\\sklearn\\utils\\validation.py:1300: DataConversionWarning: A column-vector y was passed when a 1d array was expected. Please change the shape of y to (n_samples, ), for example using ravel().\n",
      "  y = column_or_1d(y, warn=True)\n",
      "C:\\ProgramData\\anaconda3\\Lib\\site-packages\\sklearn\\utils\\validation.py:1300: DataConversionWarning: A column-vector y was passed when a 1d array was expected. Please change the shape of y to (n_samples, ), for example using ravel().\n",
      "  y = column_or_1d(y, warn=True)\n"
     ]
    },
    {
     "name": "stdout",
     "output_type": "stream",
     "text": [
      "[CV 1/5] END alpha=0.3, fit_prior=False, force_alpha=False;, score=0.667 total time=   0.0s\n",
      "[CV 2/5] END alpha=0.3, fit_prior=False, force_alpha=False;, score=0.901 total time=   0.1s\n"
     ]
    },
    {
     "name": "stderr",
     "output_type": "stream",
     "text": [
      "C:\\ProgramData\\anaconda3\\Lib\\site-packages\\sklearn\\utils\\validation.py:1300: DataConversionWarning: A column-vector y was passed when a 1d array was expected. Please change the shape of y to (n_samples, ), for example using ravel().\n",
      "  y = column_or_1d(y, warn=True)\n",
      "C:\\ProgramData\\anaconda3\\Lib\\site-packages\\sklearn\\utils\\validation.py:1300: DataConversionWarning: A column-vector y was passed when a 1d array was expected. Please change the shape of y to (n_samples, ), for example using ravel().\n",
      "  y = column_or_1d(y, warn=True)\n"
     ]
    },
    {
     "name": "stdout",
     "output_type": "stream",
     "text": [
      "[CV 3/5] END alpha=0.3, fit_prior=False, force_alpha=False;, score=0.938 total time=   0.0s\n",
      "[CV 4/5] END alpha=0.3, fit_prior=False, force_alpha=False;, score=0.936 total time=   0.0s\n"
     ]
    },
    {
     "name": "stderr",
     "output_type": "stream",
     "text": [
      "C:\\ProgramData\\anaconda3\\Lib\\site-packages\\sklearn\\utils\\validation.py:1300: DataConversionWarning: A column-vector y was passed when a 1d array was expected. Please change the shape of y to (n_samples, ), for example using ravel().\n",
      "  y = column_or_1d(y, warn=True)\n",
      "C:\\ProgramData\\anaconda3\\Lib\\site-packages\\sklearn\\utils\\validation.py:1300: DataConversionWarning: A column-vector y was passed when a 1d array was expected. Please change the shape of y to (n_samples, ), for example using ravel().\n",
      "  y = column_or_1d(y, warn=True)\n"
     ]
    },
    {
     "name": "stdout",
     "output_type": "stream",
     "text": [
      "[CV 5/5] END alpha=0.3, fit_prior=False, force_alpha=False;, score=0.938 total time=   0.0s\n",
      "[CV 1/5] END alpha=0.4, fit_prior=True, force_alpha=True;, score=0.667 total time=   0.0s\n"
     ]
    },
    {
     "name": "stderr",
     "output_type": "stream",
     "text": [
      "C:\\ProgramData\\anaconda3\\Lib\\site-packages\\sklearn\\utils\\validation.py:1300: DataConversionWarning: A column-vector y was passed when a 1d array was expected. Please change the shape of y to (n_samples, ), for example using ravel().\n",
      "  y = column_or_1d(y, warn=True)\n",
      "C:\\ProgramData\\anaconda3\\Lib\\site-packages\\sklearn\\utils\\validation.py:1300: DataConversionWarning: A column-vector y was passed when a 1d array was expected. Please change the shape of y to (n_samples, ), for example using ravel().\n",
      "  y = column_or_1d(y, warn=True)\n"
     ]
    },
    {
     "name": "stdout",
     "output_type": "stream",
     "text": [
      "[CV 2/5] END alpha=0.4, fit_prior=True, force_alpha=True;, score=0.901 total time=   0.0s\n",
      "[CV 3/5] END alpha=0.4, fit_prior=True, force_alpha=True;, score=0.926 total time=   0.0s\n"
     ]
    },
    {
     "name": "stderr",
     "output_type": "stream",
     "text": [
      "C:\\ProgramData\\anaconda3\\Lib\\site-packages\\sklearn\\utils\\validation.py:1300: DataConversionWarning: A column-vector y was passed when a 1d array was expected. Please change the shape of y to (n_samples, ), for example using ravel().\n",
      "  y = column_or_1d(y, warn=True)\n",
      "C:\\ProgramData\\anaconda3\\Lib\\site-packages\\sklearn\\utils\\validation.py:1300: DataConversionWarning: A column-vector y was passed when a 1d array was expected. Please change the shape of y to (n_samples, ), for example using ravel().\n",
      "  y = column_or_1d(y, warn=True)\n"
     ]
    },
    {
     "name": "stdout",
     "output_type": "stream",
     "text": [
      "[CV 4/5] END alpha=0.4, fit_prior=True, force_alpha=True;, score=0.936 total time=   0.0s\n",
      "[CV 5/5] END alpha=0.4, fit_prior=True, force_alpha=True;, score=0.938 total time=   0.0s\n"
     ]
    },
    {
     "name": "stderr",
     "output_type": "stream",
     "text": [
      "C:\\ProgramData\\anaconda3\\Lib\\site-packages\\sklearn\\utils\\validation.py:1300: DataConversionWarning: A column-vector y was passed when a 1d array was expected. Please change the shape of y to (n_samples, ), for example using ravel().\n",
      "  y = column_or_1d(y, warn=True)\n",
      "C:\\ProgramData\\anaconda3\\Lib\\site-packages\\sklearn\\utils\\validation.py:1300: DataConversionWarning: A column-vector y was passed when a 1d array was expected. Please change the shape of y to (n_samples, ), for example using ravel().\n",
      "  y = column_or_1d(y, warn=True)\n"
     ]
    },
    {
     "name": "stdout",
     "output_type": "stream",
     "text": [
      "[CV 1/5] END alpha=0.4, fit_prior=True, force_alpha=False;, score=0.667 total time=   0.0s\n",
      "[CV 2/5] END alpha=0.4, fit_prior=True, force_alpha=False;, score=0.901 total time=   0.1s\n"
     ]
    },
    {
     "name": "stderr",
     "output_type": "stream",
     "text": [
      "C:\\ProgramData\\anaconda3\\Lib\\site-packages\\sklearn\\utils\\validation.py:1300: DataConversionWarning: A column-vector y was passed when a 1d array was expected. Please change the shape of y to (n_samples, ), for example using ravel().\n",
      "  y = column_or_1d(y, warn=True)\n",
      "C:\\ProgramData\\anaconda3\\Lib\\site-packages\\sklearn\\utils\\validation.py:1300: DataConversionWarning: A column-vector y was passed when a 1d array was expected. Please change the shape of y to (n_samples, ), for example using ravel().\n",
      "  y = column_or_1d(y, warn=True)\n"
     ]
    },
    {
     "name": "stdout",
     "output_type": "stream",
     "text": [
      "[CV 3/5] END alpha=0.4, fit_prior=True, force_alpha=False;, score=0.926 total time=   0.0s\n",
      "[CV 4/5] END alpha=0.4, fit_prior=True, force_alpha=False;, score=0.936 total time=   0.0s\n"
     ]
    },
    {
     "name": "stderr",
     "output_type": "stream",
     "text": [
      "C:\\ProgramData\\anaconda3\\Lib\\site-packages\\sklearn\\utils\\validation.py:1300: DataConversionWarning: A column-vector y was passed when a 1d array was expected. Please change the shape of y to (n_samples, ), for example using ravel().\n",
      "  y = column_or_1d(y, warn=True)\n",
      "C:\\ProgramData\\anaconda3\\Lib\\site-packages\\sklearn\\utils\\validation.py:1300: DataConversionWarning: A column-vector y was passed when a 1d array was expected. Please change the shape of y to (n_samples, ), for example using ravel().\n",
      "  y = column_or_1d(y, warn=True)\n"
     ]
    },
    {
     "name": "stdout",
     "output_type": "stream",
     "text": [
      "[CV 5/5] END alpha=0.4, fit_prior=True, force_alpha=False;, score=0.938 total time=   0.0s\n",
      "[CV 1/5] END alpha=0.4, fit_prior=False, force_alpha=True;, score=0.667 total time=   0.0s\n"
     ]
    },
    {
     "name": "stderr",
     "output_type": "stream",
     "text": [
      "C:\\ProgramData\\anaconda3\\Lib\\site-packages\\sklearn\\utils\\validation.py:1300: DataConversionWarning: A column-vector y was passed when a 1d array was expected. Please change the shape of y to (n_samples, ), for example using ravel().\n",
      "  y = column_or_1d(y, warn=True)\n",
      "C:\\ProgramData\\anaconda3\\Lib\\site-packages\\sklearn\\utils\\validation.py:1300: DataConversionWarning: A column-vector y was passed when a 1d array was expected. Please change the shape of y to (n_samples, ), for example using ravel().\n",
      "  y = column_or_1d(y, warn=True)\n"
     ]
    },
    {
     "name": "stdout",
     "output_type": "stream",
     "text": [
      "[CV 2/5] END alpha=0.4, fit_prior=False, force_alpha=True;, score=0.901 total time=   0.0s\n",
      "[CV 3/5] END alpha=0.4, fit_prior=False, force_alpha=True;, score=0.926 total time=   0.0s\n"
     ]
    },
    {
     "name": "stderr",
     "output_type": "stream",
     "text": [
      "C:\\ProgramData\\anaconda3\\Lib\\site-packages\\sklearn\\utils\\validation.py:1300: DataConversionWarning: A column-vector y was passed when a 1d array was expected. Please change the shape of y to (n_samples, ), for example using ravel().\n",
      "  y = column_or_1d(y, warn=True)\n",
      "C:\\ProgramData\\anaconda3\\Lib\\site-packages\\sklearn\\utils\\validation.py:1300: DataConversionWarning: A column-vector y was passed when a 1d array was expected. Please change the shape of y to (n_samples, ), for example using ravel().\n",
      "  y = column_or_1d(y, warn=True)\n"
     ]
    },
    {
     "name": "stdout",
     "output_type": "stream",
     "text": [
      "[CV 4/5] END alpha=0.4, fit_prior=False, force_alpha=True;, score=0.936 total time=   0.0s\n",
      "[CV 5/5] END alpha=0.4, fit_prior=False, force_alpha=True;, score=0.938 total time=   0.0s\n"
     ]
    },
    {
     "name": "stderr",
     "output_type": "stream",
     "text": [
      "C:\\ProgramData\\anaconda3\\Lib\\site-packages\\sklearn\\utils\\validation.py:1300: DataConversionWarning: A column-vector y was passed when a 1d array was expected. Please change the shape of y to (n_samples, ), for example using ravel().\n",
      "  y = column_or_1d(y, warn=True)\n",
      "C:\\ProgramData\\anaconda3\\Lib\\site-packages\\sklearn\\utils\\validation.py:1300: DataConversionWarning: A column-vector y was passed when a 1d array was expected. Please change the shape of y to (n_samples, ), for example using ravel().\n",
      "  y = column_or_1d(y, warn=True)\n"
     ]
    },
    {
     "name": "stdout",
     "output_type": "stream",
     "text": [
      "[CV 1/5] END alpha=0.4, fit_prior=False, force_alpha=False;, score=0.667 total time=   0.0s\n",
      "[CV 2/5] END alpha=0.4, fit_prior=False, force_alpha=False;, score=0.901 total time=   0.0s\n"
     ]
    },
    {
     "name": "stderr",
     "output_type": "stream",
     "text": [
      "C:\\ProgramData\\anaconda3\\Lib\\site-packages\\sklearn\\utils\\validation.py:1300: DataConversionWarning: A column-vector y was passed when a 1d array was expected. Please change the shape of y to (n_samples, ), for example using ravel().\n",
      "  y = column_or_1d(y, warn=True)\n",
      "C:\\ProgramData\\anaconda3\\Lib\\site-packages\\sklearn\\utils\\validation.py:1300: DataConversionWarning: A column-vector y was passed when a 1d array was expected. Please change the shape of y to (n_samples, ), for example using ravel().\n",
      "  y = column_or_1d(y, warn=True)\n"
     ]
    },
    {
     "name": "stdout",
     "output_type": "stream",
     "text": [
      "[CV 3/5] END alpha=0.4, fit_prior=False, force_alpha=False;, score=0.926 total time=   0.0s\n"
     ]
    },
    {
     "name": "stderr",
     "output_type": "stream",
     "text": [
      "C:\\ProgramData\\anaconda3\\Lib\\site-packages\\sklearn\\utils\\validation.py:1300: DataConversionWarning: A column-vector y was passed when a 1d array was expected. Please change the shape of y to (n_samples, ), for example using ravel().\n",
      "  y = column_or_1d(y, warn=True)\n"
     ]
    },
    {
     "name": "stdout",
     "output_type": "stream",
     "text": [
      "[CV 4/5] END alpha=0.4, fit_prior=False, force_alpha=False;, score=0.936 total time=   0.2s\n",
      "[CV 5/5] END alpha=0.4, fit_prior=False, force_alpha=False;, score=0.938 total time=   0.1s\n"
     ]
    },
    {
     "name": "stderr",
     "output_type": "stream",
     "text": [
      "C:\\ProgramData\\anaconda3\\Lib\\site-packages\\sklearn\\utils\\validation.py:1300: DataConversionWarning: A column-vector y was passed when a 1d array was expected. Please change the shape of y to (n_samples, ), for example using ravel().\n",
      "  y = column_or_1d(y, warn=True)\n",
      "C:\\ProgramData\\anaconda3\\Lib\\site-packages\\sklearn\\utils\\validation.py:1300: DataConversionWarning: A column-vector y was passed when a 1d array was expected. Please change the shape of y to (n_samples, ), for example using ravel().\n",
      "  y = column_or_1d(y, warn=True)\n"
     ]
    },
    {
     "name": "stdout",
     "output_type": "stream",
     "text": [
      "[CV 1/5] END alpha=0.5, fit_prior=True, force_alpha=True;, score=0.667 total time=   0.1s\n",
      "[CV 2/5] END alpha=0.5, fit_prior=True, force_alpha=True;, score=0.901 total time=   0.0s\n"
     ]
    },
    {
     "name": "stderr",
     "output_type": "stream",
     "text": [
      "C:\\ProgramData\\anaconda3\\Lib\\site-packages\\sklearn\\utils\\validation.py:1300: DataConversionWarning: A column-vector y was passed when a 1d array was expected. Please change the shape of y to (n_samples, ), for example using ravel().\n",
      "  y = column_or_1d(y, warn=True)\n",
      "C:\\ProgramData\\anaconda3\\Lib\\site-packages\\sklearn\\utils\\validation.py:1300: DataConversionWarning: A column-vector y was passed when a 1d array was expected. Please change the shape of y to (n_samples, ), for example using ravel().\n",
      "  y = column_or_1d(y, warn=True)\n"
     ]
    },
    {
     "name": "stdout",
     "output_type": "stream",
     "text": [
      "[CV 3/5] END alpha=0.5, fit_prior=True, force_alpha=True;, score=0.926 total time=   0.1s\n"
     ]
    },
    {
     "name": "stderr",
     "output_type": "stream",
     "text": [
      "C:\\ProgramData\\anaconda3\\Lib\\site-packages\\sklearn\\utils\\validation.py:1300: DataConversionWarning: A column-vector y was passed when a 1d array was expected. Please change the shape of y to (n_samples, ), for example using ravel().\n",
      "  y = column_or_1d(y, warn=True)\n"
     ]
    },
    {
     "name": "stdout",
     "output_type": "stream",
     "text": [
      "[CV 4/5] END alpha=0.5, fit_prior=True, force_alpha=True;, score=0.936 total time=   0.2s\n",
      "[CV 5/5] END alpha=0.5, fit_prior=True, force_alpha=True;, score=0.938 total time=   0.1s\n"
     ]
    },
    {
     "name": "stderr",
     "output_type": "stream",
     "text": [
      "C:\\ProgramData\\anaconda3\\Lib\\site-packages\\sklearn\\utils\\validation.py:1300: DataConversionWarning: A column-vector y was passed when a 1d array was expected. Please change the shape of y to (n_samples, ), for example using ravel().\n",
      "  y = column_or_1d(y, warn=True)\n",
      "C:\\ProgramData\\anaconda3\\Lib\\site-packages\\sklearn\\utils\\validation.py:1300: DataConversionWarning: A column-vector y was passed when a 1d array was expected. Please change the shape of y to (n_samples, ), for example using ravel().\n",
      "  y = column_or_1d(y, warn=True)\n"
     ]
    },
    {
     "name": "stdout",
     "output_type": "stream",
     "text": [
      "[CV 1/5] END alpha=0.5, fit_prior=True, force_alpha=False;, score=0.667 total time=   0.0s\n",
      "[CV 2/5] END alpha=0.5, fit_prior=True, force_alpha=False;, score=0.901 total time=   0.0s\n",
      "[CV 3/5] END alpha=0.5, fit_prior=True, force_alpha=False;, score=0.926 total time=   0.0s\n"
     ]
    },
    {
     "name": "stderr",
     "output_type": "stream",
     "text": [
      "C:\\ProgramData\\anaconda3\\Lib\\site-packages\\sklearn\\utils\\validation.py:1300: DataConversionWarning: A column-vector y was passed when a 1d array was expected. Please change the shape of y to (n_samples, ), for example using ravel().\n",
      "  y = column_or_1d(y, warn=True)\n",
      "C:\\ProgramData\\anaconda3\\Lib\\site-packages\\sklearn\\utils\\validation.py:1300: DataConversionWarning: A column-vector y was passed when a 1d array was expected. Please change the shape of y to (n_samples, ), for example using ravel().\n",
      "  y = column_or_1d(y, warn=True)\n",
      "C:\\ProgramData\\anaconda3\\Lib\\site-packages\\sklearn\\utils\\validation.py:1300: DataConversionWarning: A column-vector y was passed when a 1d array was expected. Please change the shape of y to (n_samples, ), for example using ravel().\n",
      "  y = column_or_1d(y, warn=True)\n",
      "C:\\ProgramData\\anaconda3\\Lib\\site-packages\\sklearn\\utils\\validation.py:1300: DataConversionWarning: A column-vector y was passed when a 1d array was expected. Please change the shape of y to (n_samples, ), for example using ravel().\n",
      "  y = column_or_1d(y, warn=True)\n"
     ]
    },
    {
     "name": "stdout",
     "output_type": "stream",
     "text": [
      "[CV 4/5] END alpha=0.5, fit_prior=True, force_alpha=False;, score=0.936 total time=   0.0s\n",
      "[CV 5/5] END alpha=0.5, fit_prior=True, force_alpha=False;, score=0.938 total time=   0.0s\n"
     ]
    },
    {
     "name": "stderr",
     "output_type": "stream",
     "text": [
      "C:\\ProgramData\\anaconda3\\Lib\\site-packages\\sklearn\\utils\\validation.py:1300: DataConversionWarning: A column-vector y was passed when a 1d array was expected. Please change the shape of y to (n_samples, ), for example using ravel().\n",
      "  y = column_or_1d(y, warn=True)\n",
      "C:\\ProgramData\\anaconda3\\Lib\\site-packages\\sklearn\\utils\\validation.py:1300: DataConversionWarning: A column-vector y was passed when a 1d array was expected. Please change the shape of y to (n_samples, ), for example using ravel().\n",
      "  y = column_or_1d(y, warn=True)\n"
     ]
    },
    {
     "name": "stdout",
     "output_type": "stream",
     "text": [
      "[CV 1/5] END alpha=0.5, fit_prior=False, force_alpha=True;, score=0.667 total time=   0.1s\n",
      "[CV 2/5] END alpha=0.5, fit_prior=False, force_alpha=True;, score=0.901 total time=   0.0s\n"
     ]
    },
    {
     "name": "stderr",
     "output_type": "stream",
     "text": [
      "C:\\ProgramData\\anaconda3\\Lib\\site-packages\\sklearn\\utils\\validation.py:1300: DataConversionWarning: A column-vector y was passed when a 1d array was expected. Please change the shape of y to (n_samples, ), for example using ravel().\n",
      "  y = column_or_1d(y, warn=True)\n",
      "C:\\ProgramData\\anaconda3\\Lib\\site-packages\\sklearn\\utils\\validation.py:1300: DataConversionWarning: A column-vector y was passed when a 1d array was expected. Please change the shape of y to (n_samples, ), for example using ravel().\n",
      "  y = column_or_1d(y, warn=True)\n"
     ]
    },
    {
     "name": "stdout",
     "output_type": "stream",
     "text": [
      "[CV 3/5] END alpha=0.5, fit_prior=False, force_alpha=True;, score=0.926 total time=   0.1s\n",
      "[CV 4/5] END alpha=0.5, fit_prior=False, force_alpha=True;, score=0.936 total time=   0.0s\n"
     ]
    },
    {
     "name": "stderr",
     "output_type": "stream",
     "text": [
      "C:\\ProgramData\\anaconda3\\Lib\\site-packages\\sklearn\\utils\\validation.py:1300: DataConversionWarning: A column-vector y was passed when a 1d array was expected. Please change the shape of y to (n_samples, ), for example using ravel().\n",
      "  y = column_or_1d(y, warn=True)\n",
      "C:\\ProgramData\\anaconda3\\Lib\\site-packages\\sklearn\\utils\\validation.py:1300: DataConversionWarning: A column-vector y was passed when a 1d array was expected. Please change the shape of y to (n_samples, ), for example using ravel().\n",
      "  y = column_or_1d(y, warn=True)\n"
     ]
    },
    {
     "name": "stdout",
     "output_type": "stream",
     "text": [
      "[CV 5/5] END alpha=0.5, fit_prior=False, force_alpha=True;, score=0.938 total time=   0.0s\n",
      "[CV 1/5] END alpha=0.5, fit_prior=False, force_alpha=False;, score=0.667 total time=   0.0s\n"
     ]
    },
    {
     "name": "stderr",
     "output_type": "stream",
     "text": [
      "C:\\ProgramData\\anaconda3\\Lib\\site-packages\\sklearn\\utils\\validation.py:1300: DataConversionWarning: A column-vector y was passed when a 1d array was expected. Please change the shape of y to (n_samples, ), for example using ravel().\n",
      "  y = column_or_1d(y, warn=True)\n",
      "C:\\ProgramData\\anaconda3\\Lib\\site-packages\\sklearn\\utils\\validation.py:1300: DataConversionWarning: A column-vector y was passed when a 1d array was expected. Please change the shape of y to (n_samples, ), for example using ravel().\n",
      "  y = column_or_1d(y, warn=True)\n"
     ]
    },
    {
     "name": "stdout",
     "output_type": "stream",
     "text": [
      "[CV 2/5] END alpha=0.5, fit_prior=False, force_alpha=False;, score=0.901 total time=   0.1s\n",
      "[CV 3/5] END alpha=0.5, fit_prior=False, force_alpha=False;, score=0.926 total time=   0.0s\n"
     ]
    },
    {
     "name": "stderr",
     "output_type": "stream",
     "text": [
      "C:\\ProgramData\\anaconda3\\Lib\\site-packages\\sklearn\\utils\\validation.py:1300: DataConversionWarning: A column-vector y was passed when a 1d array was expected. Please change the shape of y to (n_samples, ), for example using ravel().\n",
      "  y = column_or_1d(y, warn=True)\n",
      "C:\\ProgramData\\anaconda3\\Lib\\site-packages\\sklearn\\utils\\validation.py:1300: DataConversionWarning: A column-vector y was passed when a 1d array was expected. Please change the shape of y to (n_samples, ), for example using ravel().\n",
      "  y = column_or_1d(y, warn=True)\n"
     ]
    },
    {
     "name": "stdout",
     "output_type": "stream",
     "text": [
      "[CV 4/5] END alpha=0.5, fit_prior=False, force_alpha=False;, score=0.936 total time=   0.1s\n",
      "[CV 5/5] END alpha=0.5, fit_prior=False, force_alpha=False;, score=0.938 total time=   0.0s\n"
     ]
    },
    {
     "name": "stderr",
     "output_type": "stream",
     "text": [
      "C:\\ProgramData\\anaconda3\\Lib\\site-packages\\sklearn\\utils\\validation.py:1300: DataConversionWarning: A column-vector y was passed when a 1d array was expected. Please change the shape of y to (n_samples, ), for example using ravel().\n",
      "  y = column_or_1d(y, warn=True)\n",
      "C:\\ProgramData\\anaconda3\\Lib\\site-packages\\sklearn\\utils\\validation.py:1300: DataConversionWarning: A column-vector y was passed when a 1d array was expected. Please change the shape of y to (n_samples, ), for example using ravel().\n",
      "  y = column_or_1d(y, warn=True)\n"
     ]
    },
    {
     "name": "stdout",
     "output_type": "stream",
     "text": [
      "[CV 1/5] END alpha=0.6, fit_prior=True, force_alpha=True;, score=0.667 total time=   0.1s\n",
      "[CV 2/5] END alpha=0.6, fit_prior=True, force_alpha=True;, score=0.889 total time=   0.0s\n"
     ]
    },
    {
     "name": "stderr",
     "output_type": "stream",
     "text": [
      "C:\\ProgramData\\anaconda3\\Lib\\site-packages\\sklearn\\utils\\validation.py:1300: DataConversionWarning: A column-vector y was passed when a 1d array was expected. Please change the shape of y to (n_samples, ), for example using ravel().\n",
      "  y = column_or_1d(y, warn=True)\n",
      "C:\\ProgramData\\anaconda3\\Lib\\site-packages\\sklearn\\utils\\validation.py:1300: DataConversionWarning: A column-vector y was passed when a 1d array was expected. Please change the shape of y to (n_samples, ), for example using ravel().\n",
      "  y = column_or_1d(y, warn=True)\n"
     ]
    },
    {
     "name": "stdout",
     "output_type": "stream",
     "text": [
      "[CV 3/5] END alpha=0.6, fit_prior=True, force_alpha=True;, score=0.926 total time=   0.1s\n",
      "[CV 4/5] END alpha=0.6, fit_prior=True, force_alpha=True;, score=0.936 total time=   0.0s\n"
     ]
    },
    {
     "name": "stderr",
     "output_type": "stream",
     "text": [
      "C:\\ProgramData\\anaconda3\\Lib\\site-packages\\sklearn\\utils\\validation.py:1300: DataConversionWarning: A column-vector y was passed when a 1d array was expected. Please change the shape of y to (n_samples, ), for example using ravel().\n",
      "  y = column_or_1d(y, warn=True)\n",
      "C:\\ProgramData\\anaconda3\\Lib\\site-packages\\sklearn\\utils\\validation.py:1300: DataConversionWarning: A column-vector y was passed when a 1d array was expected. Please change the shape of y to (n_samples, ), for example using ravel().\n",
      "  y = column_or_1d(y, warn=True)\n"
     ]
    },
    {
     "name": "stdout",
     "output_type": "stream",
     "text": [
      "[CV 5/5] END alpha=0.6, fit_prior=True, force_alpha=True;, score=0.938 total time=   0.0s\n",
      "[CV 1/5] END alpha=0.6, fit_prior=True, force_alpha=False;, score=0.667 total time=   0.0s\n"
     ]
    },
    {
     "name": "stderr",
     "output_type": "stream",
     "text": [
      "C:\\ProgramData\\anaconda3\\Lib\\site-packages\\sklearn\\utils\\validation.py:1300: DataConversionWarning: A column-vector y was passed when a 1d array was expected. Please change the shape of y to (n_samples, ), for example using ravel().\n",
      "  y = column_or_1d(y, warn=True)\n",
      "C:\\ProgramData\\anaconda3\\Lib\\site-packages\\sklearn\\utils\\validation.py:1300: DataConversionWarning: A column-vector y was passed when a 1d array was expected. Please change the shape of y to (n_samples, ), for example using ravel().\n",
      "  y = column_or_1d(y, warn=True)\n"
     ]
    },
    {
     "name": "stdout",
     "output_type": "stream",
     "text": [
      "[CV 2/5] END alpha=0.6, fit_prior=True, force_alpha=False;, score=0.889 total time=   0.0s\n",
      "[CV 3/5] END alpha=0.6, fit_prior=True, force_alpha=False;, score=0.926 total time=   0.0s\n",
      "[CV 4/5] END alpha=0.6, fit_prior=True, force_alpha=False;, score=0.936 total time=   0.0s\n"
     ]
    },
    {
     "name": "stderr",
     "output_type": "stream",
     "text": [
      "C:\\ProgramData\\anaconda3\\Lib\\site-packages\\sklearn\\utils\\validation.py:1300: DataConversionWarning: A column-vector y was passed when a 1d array was expected. Please change the shape of y to (n_samples, ), for example using ravel().\n",
      "  y = column_or_1d(y, warn=True)\n",
      "C:\\ProgramData\\anaconda3\\Lib\\site-packages\\sklearn\\utils\\validation.py:1300: DataConversionWarning: A column-vector y was passed when a 1d array was expected. Please change the shape of y to (n_samples, ), for example using ravel().\n",
      "  y = column_or_1d(y, warn=True)\n"
     ]
    },
    {
     "name": "stdout",
     "output_type": "stream",
     "text": [
      "[CV 5/5] END alpha=0.6, fit_prior=True, force_alpha=False;, score=0.938 total time=   0.1s\n",
      "[CV 1/5] END alpha=0.6, fit_prior=False, force_alpha=True;, score=0.667 total time=   0.1s\n"
     ]
    },
    {
     "name": "stderr",
     "output_type": "stream",
     "text": [
      "C:\\ProgramData\\anaconda3\\Lib\\site-packages\\sklearn\\utils\\validation.py:1300: DataConversionWarning: A column-vector y was passed when a 1d array was expected. Please change the shape of y to (n_samples, ), for example using ravel().\n",
      "  y = column_or_1d(y, warn=True)\n",
      "C:\\ProgramData\\anaconda3\\Lib\\site-packages\\sklearn\\utils\\validation.py:1300: DataConversionWarning: A column-vector y was passed when a 1d array was expected. Please change the shape of y to (n_samples, ), for example using ravel().\n",
      "  y = column_or_1d(y, warn=True)\n"
     ]
    },
    {
     "name": "stdout",
     "output_type": "stream",
     "text": [
      "[CV 2/5] END alpha=0.6, fit_prior=False, force_alpha=True;, score=0.889 total time=   0.1s\n",
      "[CV 3/5] END alpha=0.6, fit_prior=False, force_alpha=True;, score=0.926 total time=   0.0s\n"
     ]
    },
    {
     "name": "stderr",
     "output_type": "stream",
     "text": [
      "C:\\ProgramData\\anaconda3\\Lib\\site-packages\\sklearn\\utils\\validation.py:1300: DataConversionWarning: A column-vector y was passed when a 1d array was expected. Please change the shape of y to (n_samples, ), for example using ravel().\n",
      "  y = column_or_1d(y, warn=True)\n",
      "C:\\ProgramData\\anaconda3\\Lib\\site-packages\\sklearn\\utils\\validation.py:1300: DataConversionWarning: A column-vector y was passed when a 1d array was expected. Please change the shape of y to (n_samples, ), for example using ravel().\n",
      "  y = column_or_1d(y, warn=True)\n"
     ]
    },
    {
     "name": "stdout",
     "output_type": "stream",
     "text": [
      "[CV 4/5] END alpha=0.6, fit_prior=False, force_alpha=True;, score=0.936 total time=   0.1s\n",
      "[CV 5/5] END alpha=0.6, fit_prior=False, force_alpha=True;, score=0.938 total time=   0.1s\n"
     ]
    },
    {
     "name": "stderr",
     "output_type": "stream",
     "text": [
      "C:\\ProgramData\\anaconda3\\Lib\\site-packages\\sklearn\\utils\\validation.py:1300: DataConversionWarning: A column-vector y was passed when a 1d array was expected. Please change the shape of y to (n_samples, ), for example using ravel().\n",
      "  y = column_or_1d(y, warn=True)\n",
      "C:\\ProgramData\\anaconda3\\Lib\\site-packages\\sklearn\\utils\\validation.py:1300: DataConversionWarning: A column-vector y was passed when a 1d array was expected. Please change the shape of y to (n_samples, ), for example using ravel().\n",
      "  y = column_or_1d(y, warn=True)\n"
     ]
    },
    {
     "name": "stdout",
     "output_type": "stream",
     "text": [
      "[CV 1/5] END alpha=0.6, fit_prior=False, force_alpha=False;, score=0.667 total time=   0.1s\n",
      "[CV 2/5] END alpha=0.6, fit_prior=False, force_alpha=False;, score=0.889 total time=   0.0s\n"
     ]
    },
    {
     "name": "stderr",
     "output_type": "stream",
     "text": [
      "C:\\ProgramData\\anaconda3\\Lib\\site-packages\\sklearn\\utils\\validation.py:1300: DataConversionWarning: A column-vector y was passed when a 1d array was expected. Please change the shape of y to (n_samples, ), for example using ravel().\n",
      "  y = column_or_1d(y, warn=True)\n",
      "C:\\ProgramData\\anaconda3\\Lib\\site-packages\\sklearn\\utils\\validation.py:1300: DataConversionWarning: A column-vector y was passed when a 1d array was expected. Please change the shape of y to (n_samples, ), for example using ravel().\n",
      "  y = column_or_1d(y, warn=True)\n"
     ]
    },
    {
     "name": "stdout",
     "output_type": "stream",
     "text": [
      "[CV 3/5] END alpha=0.6, fit_prior=False, force_alpha=False;, score=0.926 total time=   0.0s\n",
      "[CV 4/5] END alpha=0.6, fit_prior=False, force_alpha=False;, score=0.936 total time=   0.0s\n"
     ]
    },
    {
     "name": "stderr",
     "output_type": "stream",
     "text": [
      "C:\\ProgramData\\anaconda3\\Lib\\site-packages\\sklearn\\utils\\validation.py:1300: DataConversionWarning: A column-vector y was passed when a 1d array was expected. Please change the shape of y to (n_samples, ), for example using ravel().\n",
      "  y = column_or_1d(y, warn=True)\n",
      "C:\\ProgramData\\anaconda3\\Lib\\site-packages\\sklearn\\utils\\validation.py:1300: DataConversionWarning: A column-vector y was passed when a 1d array was expected. Please change the shape of y to (n_samples, ), for example using ravel().\n",
      "  y = column_or_1d(y, warn=True)\n"
     ]
    },
    {
     "name": "stdout",
     "output_type": "stream",
     "text": [
      "[CV 5/5] END alpha=0.6, fit_prior=False, force_alpha=False;, score=0.938 total time=   0.1s\n",
      "[CV 1/5] END alpha=0.7, fit_prior=True, force_alpha=True;, score=0.649 total time=   0.0s\n"
     ]
    },
    {
     "name": "stderr",
     "output_type": "stream",
     "text": [
      "C:\\ProgramData\\anaconda3\\Lib\\site-packages\\sklearn\\utils\\validation.py:1300: DataConversionWarning: A column-vector y was passed when a 1d array was expected. Please change the shape of y to (n_samples, ), for example using ravel().\n",
      "  y = column_or_1d(y, warn=True)\n",
      "C:\\ProgramData\\anaconda3\\Lib\\site-packages\\sklearn\\utils\\validation.py:1300: DataConversionWarning: A column-vector y was passed when a 1d array was expected. Please change the shape of y to (n_samples, ), for example using ravel().\n",
      "  y = column_or_1d(y, warn=True)\n"
     ]
    },
    {
     "name": "stdout",
     "output_type": "stream",
     "text": [
      "[CV 2/5] END alpha=0.7, fit_prior=True, force_alpha=True;, score=0.889 total time=   0.1s\n",
      "[CV 3/5] END alpha=0.7, fit_prior=True, force_alpha=True;, score=0.926 total time=   0.0s\n"
     ]
    },
    {
     "name": "stderr",
     "output_type": "stream",
     "text": [
      "C:\\ProgramData\\anaconda3\\Lib\\site-packages\\sklearn\\utils\\validation.py:1300: DataConversionWarning: A column-vector y was passed when a 1d array was expected. Please change the shape of y to (n_samples, ), for example using ravel().\n",
      "  y = column_or_1d(y, warn=True)\n",
      "C:\\ProgramData\\anaconda3\\Lib\\site-packages\\sklearn\\utils\\validation.py:1300: DataConversionWarning: A column-vector y was passed when a 1d array was expected. Please change the shape of y to (n_samples, ), for example using ravel().\n",
      "  y = column_or_1d(y, warn=True)\n"
     ]
    },
    {
     "name": "stdout",
     "output_type": "stream",
     "text": [
      "[CV 4/5] END alpha=0.7, fit_prior=True, force_alpha=True;, score=0.925 total time=   0.0s\n",
      "[CV 5/5] END alpha=0.7, fit_prior=True, force_alpha=True;, score=0.938 total time=   0.1s\n"
     ]
    },
    {
     "name": "stderr",
     "output_type": "stream",
     "text": [
      "C:\\ProgramData\\anaconda3\\Lib\\site-packages\\sklearn\\utils\\validation.py:1300: DataConversionWarning: A column-vector y was passed when a 1d array was expected. Please change the shape of y to (n_samples, ), for example using ravel().\n",
      "  y = column_or_1d(y, warn=True)\n",
      "C:\\ProgramData\\anaconda3\\Lib\\site-packages\\sklearn\\utils\\validation.py:1300: DataConversionWarning: A column-vector y was passed when a 1d array was expected. Please change the shape of y to (n_samples, ), for example using ravel().\n",
      "  y = column_or_1d(y, warn=True)\n",
      "C:\\ProgramData\\anaconda3\\Lib\\site-packages\\sklearn\\utils\\validation.py:1300: DataConversionWarning: A column-vector y was passed when a 1d array was expected. Please change the shape of y to (n_samples, ), for example using ravel().\n",
      "  y = column_or_1d(y, warn=True)\n"
     ]
    },
    {
     "name": "stdout",
     "output_type": "stream",
     "text": [
      "[CV 1/5] END alpha=0.7, fit_prior=True, force_alpha=False;, score=0.649 total time=   0.0s\n",
      "[CV 2/5] END alpha=0.7, fit_prior=True, force_alpha=False;, score=0.889 total time=   0.0s\n"
     ]
    },
    {
     "name": "stderr",
     "output_type": "stream",
     "text": [
      "C:\\ProgramData\\anaconda3\\Lib\\site-packages\\sklearn\\utils\\validation.py:1300: DataConversionWarning: A column-vector y was passed when a 1d array was expected. Please change the shape of y to (n_samples, ), for example using ravel().\n",
      "  y = column_or_1d(y, warn=True)\n"
     ]
    },
    {
     "name": "stdout",
     "output_type": "stream",
     "text": [
      "[CV 3/5] END alpha=0.7, fit_prior=True, force_alpha=False;, score=0.926 total time=   0.1s\n",
      "[CV 4/5] END alpha=0.7, fit_prior=True, force_alpha=False;, score=0.925 total time=   0.0s\n"
     ]
    },
    {
     "name": "stderr",
     "output_type": "stream",
     "text": [
      "C:\\ProgramData\\anaconda3\\Lib\\site-packages\\sklearn\\utils\\validation.py:1300: DataConversionWarning: A column-vector y was passed when a 1d array was expected. Please change the shape of y to (n_samples, ), for example using ravel().\n",
      "  y = column_or_1d(y, warn=True)\n",
      "C:\\ProgramData\\anaconda3\\Lib\\site-packages\\sklearn\\utils\\validation.py:1300: DataConversionWarning: A column-vector y was passed when a 1d array was expected. Please change the shape of y to (n_samples, ), for example using ravel().\n",
      "  y = column_or_1d(y, warn=True)\n"
     ]
    },
    {
     "name": "stdout",
     "output_type": "stream",
     "text": [
      "[CV 5/5] END alpha=0.7, fit_prior=True, force_alpha=False;, score=0.938 total time=   0.0s\n",
      "[CV 1/5] END alpha=0.7, fit_prior=False, force_alpha=True;, score=0.649 total time=   0.1s\n"
     ]
    },
    {
     "name": "stderr",
     "output_type": "stream",
     "text": [
      "C:\\ProgramData\\anaconda3\\Lib\\site-packages\\sklearn\\utils\\validation.py:1300: DataConversionWarning: A column-vector y was passed when a 1d array was expected. Please change the shape of y to (n_samples, ), for example using ravel().\n",
      "  y = column_or_1d(y, warn=True)\n",
      "C:\\ProgramData\\anaconda3\\Lib\\site-packages\\sklearn\\utils\\validation.py:1300: DataConversionWarning: A column-vector y was passed when a 1d array was expected. Please change the shape of y to (n_samples, ), for example using ravel().\n",
      "  y = column_or_1d(y, warn=True)\n"
     ]
    },
    {
     "name": "stdout",
     "output_type": "stream",
     "text": [
      "[CV 2/5] END alpha=0.7, fit_prior=False, force_alpha=True;, score=0.889 total time=   0.1s\n",
      "[CV 3/5] END alpha=0.7, fit_prior=False, force_alpha=True;, score=0.926 total time=   0.0s\n"
     ]
    },
    {
     "name": "stderr",
     "output_type": "stream",
     "text": [
      "C:\\ProgramData\\anaconda3\\Lib\\site-packages\\sklearn\\utils\\validation.py:1300: DataConversionWarning: A column-vector y was passed when a 1d array was expected. Please change the shape of y to (n_samples, ), for example using ravel().\n",
      "  y = column_or_1d(y, warn=True)\n",
      "C:\\ProgramData\\anaconda3\\Lib\\site-packages\\sklearn\\utils\\validation.py:1300: DataConversionWarning: A column-vector y was passed when a 1d array was expected. Please change the shape of y to (n_samples, ), for example using ravel().\n",
      "  y = column_or_1d(y, warn=True)\n"
     ]
    },
    {
     "name": "stdout",
     "output_type": "stream",
     "text": [
      "[CV 4/5] END alpha=0.7, fit_prior=False, force_alpha=True;, score=0.925 total time=   0.0s\n",
      "[CV 5/5] END alpha=0.7, fit_prior=False, force_alpha=True;, score=0.938 total time=   0.0s\n"
     ]
    },
    {
     "name": "stderr",
     "output_type": "stream",
     "text": [
      "C:\\ProgramData\\anaconda3\\Lib\\site-packages\\sklearn\\utils\\validation.py:1300: DataConversionWarning: A column-vector y was passed when a 1d array was expected. Please change the shape of y to (n_samples, ), for example using ravel().\n",
      "  y = column_or_1d(y, warn=True)\n",
      "C:\\ProgramData\\anaconda3\\Lib\\site-packages\\sklearn\\utils\\validation.py:1300: DataConversionWarning: A column-vector y was passed when a 1d array was expected. Please change the shape of y to (n_samples, ), for example using ravel().\n",
      "  y = column_or_1d(y, warn=True)\n"
     ]
    },
    {
     "name": "stdout",
     "output_type": "stream",
     "text": [
      "[CV 1/5] END alpha=0.7, fit_prior=False, force_alpha=False;, score=0.649 total time=   0.0s\n",
      "[CV 2/5] END alpha=0.7, fit_prior=False, force_alpha=False;, score=0.889 total time=   0.1s\n"
     ]
    },
    {
     "name": "stderr",
     "output_type": "stream",
     "text": [
      "C:\\ProgramData\\anaconda3\\Lib\\site-packages\\sklearn\\utils\\validation.py:1300: DataConversionWarning: A column-vector y was passed when a 1d array was expected. Please change the shape of y to (n_samples, ), for example using ravel().\n",
      "  y = column_or_1d(y, warn=True)\n",
      "C:\\ProgramData\\anaconda3\\Lib\\site-packages\\sklearn\\utils\\validation.py:1300: DataConversionWarning: A column-vector y was passed when a 1d array was expected. Please change the shape of y to (n_samples, ), for example using ravel().\n",
      "  y = column_or_1d(y, warn=True)\n"
     ]
    },
    {
     "name": "stdout",
     "output_type": "stream",
     "text": [
      "[CV 3/5] END alpha=0.7, fit_prior=False, force_alpha=False;, score=0.926 total time=   0.1s\n",
      "[CV 4/5] END alpha=0.7, fit_prior=False, force_alpha=False;, score=0.925 total time=   0.0s\n"
     ]
    },
    {
     "name": "stderr",
     "output_type": "stream",
     "text": [
      "C:\\ProgramData\\anaconda3\\Lib\\site-packages\\sklearn\\utils\\validation.py:1300: DataConversionWarning: A column-vector y was passed when a 1d array was expected. Please change the shape of y to (n_samples, ), for example using ravel().\n",
      "  y = column_or_1d(y, warn=True)\n",
      "C:\\ProgramData\\anaconda3\\Lib\\site-packages\\sklearn\\utils\\validation.py:1300: DataConversionWarning: A column-vector y was passed when a 1d array was expected. Please change the shape of y to (n_samples, ), for example using ravel().\n",
      "  y = column_or_1d(y, warn=True)\n"
     ]
    },
    {
     "name": "stdout",
     "output_type": "stream",
     "text": [
      "[CV 5/5] END alpha=0.7, fit_prior=False, force_alpha=False;, score=0.938 total time=   0.0s\n",
      "[CV 1/5] END alpha=0.8, fit_prior=True, force_alpha=True;, score=0.649 total time=   0.0s\n"
     ]
    },
    {
     "name": "stderr",
     "output_type": "stream",
     "text": [
      "C:\\ProgramData\\anaconda3\\Lib\\site-packages\\sklearn\\utils\\validation.py:1300: DataConversionWarning: A column-vector y was passed when a 1d array was expected. Please change the shape of y to (n_samples, ), for example using ravel().\n",
      "  y = column_or_1d(y, warn=True)\n",
      "C:\\ProgramData\\anaconda3\\Lib\\site-packages\\sklearn\\utils\\validation.py:1300: DataConversionWarning: A column-vector y was passed when a 1d array was expected. Please change the shape of y to (n_samples, ), for example using ravel().\n",
      "  y = column_or_1d(y, warn=True)\n"
     ]
    },
    {
     "name": "stdout",
     "output_type": "stream",
     "text": [
      "[CV 2/5] END alpha=0.8, fit_prior=True, force_alpha=True;, score=0.876 total time=   0.0s\n",
      "[CV 3/5] END alpha=0.8, fit_prior=True, force_alpha=True;, score=0.926 total time=   0.1s\n"
     ]
    },
    {
     "name": "stderr",
     "output_type": "stream",
     "text": [
      "C:\\ProgramData\\anaconda3\\Lib\\site-packages\\sklearn\\utils\\validation.py:1300: DataConversionWarning: A column-vector y was passed when a 1d array was expected. Please change the shape of y to (n_samples, ), for example using ravel().\n",
      "  y = column_or_1d(y, warn=True)\n",
      "C:\\ProgramData\\anaconda3\\Lib\\site-packages\\sklearn\\utils\\validation.py:1300: DataConversionWarning: A column-vector y was passed when a 1d array was expected. Please change the shape of y to (n_samples, ), for example using ravel().\n",
      "  y = column_or_1d(y, warn=True)\n"
     ]
    },
    {
     "name": "stdout",
     "output_type": "stream",
     "text": [
      "[CV 4/5] END alpha=0.8, fit_prior=True, force_alpha=True;, score=0.925 total time=   0.0s\n",
      "[CV 5/5] END alpha=0.8, fit_prior=True, force_alpha=True;, score=0.938 total time=   0.0s\n"
     ]
    },
    {
     "name": "stderr",
     "output_type": "stream",
     "text": [
      "C:\\ProgramData\\anaconda3\\Lib\\site-packages\\sklearn\\utils\\validation.py:1300: DataConversionWarning: A column-vector y was passed when a 1d array was expected. Please change the shape of y to (n_samples, ), for example using ravel().\n",
      "  y = column_or_1d(y, warn=True)\n",
      "C:\\ProgramData\\anaconda3\\Lib\\site-packages\\sklearn\\utils\\validation.py:1300: DataConversionWarning: A column-vector y was passed when a 1d array was expected. Please change the shape of y to (n_samples, ), for example using ravel().\n",
      "  y = column_or_1d(y, warn=True)\n"
     ]
    },
    {
     "name": "stdout",
     "output_type": "stream",
     "text": [
      "[CV 1/5] END alpha=0.8, fit_prior=True, force_alpha=False;, score=0.649 total time=   0.1s\n",
      "[CV 2/5] END alpha=0.8, fit_prior=True, force_alpha=False;, score=0.876 total time=   0.0s\n"
     ]
    },
    {
     "name": "stderr",
     "output_type": "stream",
     "text": [
      "C:\\ProgramData\\anaconda3\\Lib\\site-packages\\sklearn\\utils\\validation.py:1300: DataConversionWarning: A column-vector y was passed when a 1d array was expected. Please change the shape of y to (n_samples, ), for example using ravel().\n",
      "  y = column_or_1d(y, warn=True)\n",
      "C:\\ProgramData\\anaconda3\\Lib\\site-packages\\sklearn\\utils\\validation.py:1300: DataConversionWarning: A column-vector y was passed when a 1d array was expected. Please change the shape of y to (n_samples, ), for example using ravel().\n",
      "  y = column_or_1d(y, warn=True)\n"
     ]
    },
    {
     "name": "stdout",
     "output_type": "stream",
     "text": [
      "[CV 3/5] END alpha=0.8, fit_prior=True, force_alpha=False;, score=0.926 total time=   0.1s\n",
      "[CV 4/5] END alpha=0.8, fit_prior=True, force_alpha=False;, score=0.925 total time=   0.0s\n"
     ]
    },
    {
     "name": "stderr",
     "output_type": "stream",
     "text": [
      "C:\\ProgramData\\anaconda3\\Lib\\site-packages\\sklearn\\utils\\validation.py:1300: DataConversionWarning: A column-vector y was passed when a 1d array was expected. Please change the shape of y to (n_samples, ), for example using ravel().\n",
      "  y = column_or_1d(y, warn=True)\n",
      "C:\\ProgramData\\anaconda3\\Lib\\site-packages\\sklearn\\utils\\validation.py:1300: DataConversionWarning: A column-vector y was passed when a 1d array was expected. Please change the shape of y to (n_samples, ), for example using ravel().\n",
      "  y = column_or_1d(y, warn=True)\n"
     ]
    },
    {
     "name": "stdout",
     "output_type": "stream",
     "text": [
      "[CV 5/5] END alpha=0.8, fit_prior=True, force_alpha=False;, score=0.938 total time=   0.0s\n",
      "[CV 1/5] END alpha=0.8, fit_prior=False, force_alpha=True;, score=0.649 total time=   0.1s\n"
     ]
    },
    {
     "name": "stderr",
     "output_type": "stream",
     "text": [
      "C:\\ProgramData\\anaconda3\\Lib\\site-packages\\sklearn\\utils\\validation.py:1300: DataConversionWarning: A column-vector y was passed when a 1d array was expected. Please change the shape of y to (n_samples, ), for example using ravel().\n",
      "  y = column_or_1d(y, warn=True)\n",
      "C:\\ProgramData\\anaconda3\\Lib\\site-packages\\sklearn\\utils\\validation.py:1300: DataConversionWarning: A column-vector y was passed when a 1d array was expected. Please change the shape of y to (n_samples, ), for example using ravel().\n",
      "  y = column_or_1d(y, warn=True)\n"
     ]
    },
    {
     "name": "stdout",
     "output_type": "stream",
     "text": [
      "[CV 2/5] END alpha=0.8, fit_prior=False, force_alpha=True;, score=0.876 total time=   0.0s\n",
      "[CV 3/5] END alpha=0.8, fit_prior=False, force_alpha=True;, score=0.926 total time=   0.0s\n"
     ]
    },
    {
     "name": "stderr",
     "output_type": "stream",
     "text": [
      "C:\\ProgramData\\anaconda3\\Lib\\site-packages\\sklearn\\utils\\validation.py:1300: DataConversionWarning: A column-vector y was passed when a 1d array was expected. Please change the shape of y to (n_samples, ), for example using ravel().\n",
      "  y = column_or_1d(y, warn=True)\n",
      "C:\\ProgramData\\anaconda3\\Lib\\site-packages\\sklearn\\utils\\validation.py:1300: DataConversionWarning: A column-vector y was passed when a 1d array was expected. Please change the shape of y to (n_samples, ), for example using ravel().\n",
      "  y = column_or_1d(y, warn=True)\n"
     ]
    },
    {
     "name": "stdout",
     "output_type": "stream",
     "text": [
      "[CV 4/5] END alpha=0.8, fit_prior=False, force_alpha=True;, score=0.925 total time=   0.0s\n",
      "[CV 5/5] END alpha=0.8, fit_prior=False, force_alpha=True;, score=0.938 total time=   0.1s\n"
     ]
    },
    {
     "name": "stderr",
     "output_type": "stream",
     "text": [
      "C:\\ProgramData\\anaconda3\\Lib\\site-packages\\sklearn\\utils\\validation.py:1300: DataConversionWarning: A column-vector y was passed when a 1d array was expected. Please change the shape of y to (n_samples, ), for example using ravel().\n",
      "  y = column_or_1d(y, warn=True)\n",
      "C:\\ProgramData\\anaconda3\\Lib\\site-packages\\sklearn\\utils\\validation.py:1300: DataConversionWarning: A column-vector y was passed when a 1d array was expected. Please change the shape of y to (n_samples, ), for example using ravel().\n",
      "  y = column_or_1d(y, warn=True)\n"
     ]
    },
    {
     "name": "stdout",
     "output_type": "stream",
     "text": [
      "[CV 1/5] END alpha=0.8, fit_prior=False, force_alpha=False;, score=0.649 total time=   0.0s\n",
      "[CV 2/5] END alpha=0.8, fit_prior=False, force_alpha=False;, score=0.876 total time=   0.0s\n"
     ]
    },
    {
     "name": "stderr",
     "output_type": "stream",
     "text": [
      "C:\\ProgramData\\anaconda3\\Lib\\site-packages\\sklearn\\utils\\validation.py:1300: DataConversionWarning: A column-vector y was passed when a 1d array was expected. Please change the shape of y to (n_samples, ), for example using ravel().\n",
      "  y = column_or_1d(y, warn=True)\n",
      "C:\\ProgramData\\anaconda3\\Lib\\site-packages\\sklearn\\utils\\validation.py:1300: DataConversionWarning: A column-vector y was passed when a 1d array was expected. Please change the shape of y to (n_samples, ), for example using ravel().\n",
      "  y = column_or_1d(y, warn=True)\n"
     ]
    },
    {
     "name": "stdout",
     "output_type": "stream",
     "text": [
      "[CV 3/5] END alpha=0.8, fit_prior=False, force_alpha=False;, score=0.926 total time=   0.1s\n",
      "[CV 4/5] END alpha=0.8, fit_prior=False, force_alpha=False;, score=0.925 total time=   0.0s\n"
     ]
    },
    {
     "name": "stderr",
     "output_type": "stream",
     "text": [
      "C:\\ProgramData\\anaconda3\\Lib\\site-packages\\sklearn\\utils\\validation.py:1300: DataConversionWarning: A column-vector y was passed when a 1d array was expected. Please change the shape of y to (n_samples, ), for example using ravel().\n",
      "  y = column_or_1d(y, warn=True)\n",
      "C:\\ProgramData\\anaconda3\\Lib\\site-packages\\sklearn\\utils\\validation.py:1300: DataConversionWarning: A column-vector y was passed when a 1d array was expected. Please change the shape of y to (n_samples, ), for example using ravel().\n",
      "  y = column_or_1d(y, warn=True)\n"
     ]
    },
    {
     "name": "stdout",
     "output_type": "stream",
     "text": [
      "[CV 5/5] END alpha=0.8, fit_prior=False, force_alpha=False;, score=0.938 total time=   0.0s\n",
      "[CV 1/5] END alpha=0.9, fit_prior=True, force_alpha=True;, score=0.649 total time=   0.0s\n"
     ]
    },
    {
     "name": "stderr",
     "output_type": "stream",
     "text": [
      "C:\\ProgramData\\anaconda3\\Lib\\site-packages\\sklearn\\utils\\validation.py:1300: DataConversionWarning: A column-vector y was passed when a 1d array was expected. Please change the shape of y to (n_samples, ), for example using ravel().\n",
      "  y = column_or_1d(y, warn=True)\n",
      "C:\\ProgramData\\anaconda3\\Lib\\site-packages\\sklearn\\utils\\validation.py:1300: DataConversionWarning: A column-vector y was passed when a 1d array was expected. Please change the shape of y to (n_samples, ), for example using ravel().\n",
      "  y = column_or_1d(y, warn=True)\n"
     ]
    },
    {
     "name": "stdout",
     "output_type": "stream",
     "text": [
      "[CV 2/5] END alpha=0.9, fit_prior=True, force_alpha=True;, score=0.876 total time=   0.0s\n",
      "[CV 3/5] END alpha=0.9, fit_prior=True, force_alpha=True;, score=0.915 total time=   0.1s\n"
     ]
    },
    {
     "name": "stderr",
     "output_type": "stream",
     "text": [
      "C:\\ProgramData\\anaconda3\\Lib\\site-packages\\sklearn\\utils\\validation.py:1300: DataConversionWarning: A column-vector y was passed when a 1d array was expected. Please change the shape of y to (n_samples, ), for example using ravel().\n",
      "  y = column_or_1d(y, warn=True)\n",
      "C:\\ProgramData\\anaconda3\\Lib\\site-packages\\sklearn\\utils\\validation.py:1300: DataConversionWarning: A column-vector y was passed when a 1d array was expected. Please change the shape of y to (n_samples, ), for example using ravel().\n",
      "  y = column_or_1d(y, warn=True)\n"
     ]
    },
    {
     "name": "stdout",
     "output_type": "stream",
     "text": [
      "[CV 4/5] END alpha=0.9, fit_prior=True, force_alpha=True;, score=0.913 total time=   0.1s\n",
      "[CV 5/5] END alpha=0.9, fit_prior=True, force_alpha=True;, score=0.938 total time=   0.1s\n"
     ]
    },
    {
     "name": "stderr",
     "output_type": "stream",
     "text": [
      "C:\\ProgramData\\anaconda3\\Lib\\site-packages\\sklearn\\utils\\validation.py:1300: DataConversionWarning: A column-vector y was passed when a 1d array was expected. Please change the shape of y to (n_samples, ), for example using ravel().\n",
      "  y = column_or_1d(y, warn=True)\n",
      "C:\\ProgramData\\anaconda3\\Lib\\site-packages\\sklearn\\utils\\validation.py:1300: DataConversionWarning: A column-vector y was passed when a 1d array was expected. Please change the shape of y to (n_samples, ), for example using ravel().\n",
      "  y = column_or_1d(y, warn=True)\n",
      "C:\\ProgramData\\anaconda3\\Lib\\site-packages\\sklearn\\utils\\validation.py:1300: DataConversionWarning: A column-vector y was passed when a 1d array was expected. Please change the shape of y to (n_samples, ), for example using ravel().\n",
      "  y = column_or_1d(y, warn=True)\n"
     ]
    },
    {
     "name": "stdout",
     "output_type": "stream",
     "text": [
      "[CV 1/5] END alpha=0.9, fit_prior=True, force_alpha=False;, score=0.649 total time=   0.1s\n",
      "[CV 2/5] END alpha=0.9, fit_prior=True, force_alpha=False;, score=0.876 total time=   0.1s\n"
     ]
    },
    {
     "name": "stderr",
     "output_type": "stream",
     "text": [
      "C:\\ProgramData\\anaconda3\\Lib\\site-packages\\sklearn\\utils\\validation.py:1300: DataConversionWarning: A column-vector y was passed when a 1d array was expected. Please change the shape of y to (n_samples, ), for example using ravel().\n",
      "  y = column_or_1d(y, warn=True)\n",
      "C:\\ProgramData\\anaconda3\\Lib\\site-packages\\sklearn\\utils\\validation.py:1300: DataConversionWarning: A column-vector y was passed when a 1d array was expected. Please change the shape of y to (n_samples, ), for example using ravel().\n",
      "  y = column_or_1d(y, warn=True)\n"
     ]
    },
    {
     "name": "stdout",
     "output_type": "stream",
     "text": [
      "[CV 3/5] END alpha=0.9, fit_prior=True, force_alpha=False;, score=0.915 total time=   0.1s\n",
      "[CV 4/5] END alpha=0.9, fit_prior=True, force_alpha=False;, score=0.913 total time=   0.1s\n"
     ]
    },
    {
     "name": "stderr",
     "output_type": "stream",
     "text": [
      "C:\\ProgramData\\anaconda3\\Lib\\site-packages\\sklearn\\utils\\validation.py:1300: DataConversionWarning: A column-vector y was passed when a 1d array was expected. Please change the shape of y to (n_samples, ), for example using ravel().\n",
      "  y = column_or_1d(y, warn=True)\n",
      "C:\\ProgramData\\anaconda3\\Lib\\site-packages\\sklearn\\utils\\validation.py:1300: DataConversionWarning: A column-vector y was passed when a 1d array was expected. Please change the shape of y to (n_samples, ), for example using ravel().\n",
      "  y = column_or_1d(y, warn=True)\n"
     ]
    },
    {
     "name": "stdout",
     "output_type": "stream",
     "text": [
      "[CV 5/5] END alpha=0.9, fit_prior=True, force_alpha=False;, score=0.938 total time=   0.1s\n",
      "[CV 1/5] END alpha=0.9, fit_prior=False, force_alpha=True;, score=0.649 total time=   0.1s\n",
      "[CV 2/5] END alpha=0.9, fit_prior=False, force_alpha=True;, score=0.876 total time=   0.1s\n"
     ]
    },
    {
     "name": "stderr",
     "output_type": "stream",
     "text": [
      "C:\\ProgramData\\anaconda3\\Lib\\site-packages\\sklearn\\utils\\validation.py:1300: DataConversionWarning: A column-vector y was passed when a 1d array was expected. Please change the shape of y to (n_samples, ), for example using ravel().\n",
      "  y = column_or_1d(y, warn=True)\n",
      "C:\\ProgramData\\anaconda3\\Lib\\site-packages\\sklearn\\utils\\validation.py:1300: DataConversionWarning: A column-vector y was passed when a 1d array was expected. Please change the shape of y to (n_samples, ), for example using ravel().\n",
      "  y = column_or_1d(y, warn=True)\n"
     ]
    },
    {
     "name": "stdout",
     "output_type": "stream",
     "text": [
      "[CV 3/5] END alpha=0.9, fit_prior=False, force_alpha=True;, score=0.915 total time=   0.1s\n",
      "[CV 4/5] END alpha=0.9, fit_prior=False, force_alpha=True;, score=0.913 total time=   0.1s\n"
     ]
    },
    {
     "name": "stderr",
     "output_type": "stream",
     "text": [
      "C:\\ProgramData\\anaconda3\\Lib\\site-packages\\sklearn\\utils\\validation.py:1300: DataConversionWarning: A column-vector y was passed when a 1d array was expected. Please change the shape of y to (n_samples, ), for example using ravel().\n",
      "  y = column_or_1d(y, warn=True)\n",
      "C:\\ProgramData\\anaconda3\\Lib\\site-packages\\sklearn\\utils\\validation.py:1300: DataConversionWarning: A column-vector y was passed when a 1d array was expected. Please change the shape of y to (n_samples, ), for example using ravel().\n",
      "  y = column_or_1d(y, warn=True)\n"
     ]
    },
    {
     "name": "stdout",
     "output_type": "stream",
     "text": [
      "[CV 5/5] END alpha=0.9, fit_prior=False, force_alpha=True;, score=0.938 total time=   0.0s\n",
      "[CV 1/5] END alpha=0.9, fit_prior=False, force_alpha=False;, score=0.649 total time=   0.0s\n"
     ]
    },
    {
     "name": "stderr",
     "output_type": "stream",
     "text": [
      "C:\\ProgramData\\anaconda3\\Lib\\site-packages\\sklearn\\utils\\validation.py:1300: DataConversionWarning: A column-vector y was passed when a 1d array was expected. Please change the shape of y to (n_samples, ), for example using ravel().\n",
      "  y = column_or_1d(y, warn=True)\n",
      "C:\\ProgramData\\anaconda3\\Lib\\site-packages\\sklearn\\utils\\validation.py:1300: DataConversionWarning: A column-vector y was passed when a 1d array was expected. Please change the shape of y to (n_samples, ), for example using ravel().\n",
      "  y = column_or_1d(y, warn=True)\n"
     ]
    },
    {
     "name": "stdout",
     "output_type": "stream",
     "text": [
      "[CV 2/5] END alpha=0.9, fit_prior=False, force_alpha=False;, score=0.876 total time=   0.1s\n",
      "[CV 3/5] END alpha=0.9, fit_prior=False, force_alpha=False;, score=0.915 total time=   0.1s\n"
     ]
    },
    {
     "name": "stderr",
     "output_type": "stream",
     "text": [
      "C:\\ProgramData\\anaconda3\\Lib\\site-packages\\sklearn\\utils\\validation.py:1300: DataConversionWarning: A column-vector y was passed when a 1d array was expected. Please change the shape of y to (n_samples, ), for example using ravel().\n",
      "  y = column_or_1d(y, warn=True)\n",
      "C:\\ProgramData\\anaconda3\\Lib\\site-packages\\sklearn\\utils\\validation.py:1300: DataConversionWarning: A column-vector y was passed when a 1d array was expected. Please change the shape of y to (n_samples, ), for example using ravel().\n",
      "  y = column_or_1d(y, warn=True)\n"
     ]
    },
    {
     "name": "stdout",
     "output_type": "stream",
     "text": [
      "[CV 4/5] END alpha=0.9, fit_prior=False, force_alpha=False;, score=0.913 total time=   0.1s\n",
      "[CV 5/5] END alpha=0.9, fit_prior=False, force_alpha=False;, score=0.938 total time=   0.1s\n"
     ]
    },
    {
     "name": "stderr",
     "output_type": "stream",
     "text": [
      "C:\\ProgramData\\anaconda3\\Lib\\site-packages\\sklearn\\utils\\validation.py:1300: DataConversionWarning: A column-vector y was passed when a 1d array was expected. Please change the shape of y to (n_samples, ), for example using ravel().\n",
      "  y = column_or_1d(y, warn=True)\n",
      "C:\\ProgramData\\anaconda3\\Lib\\site-packages\\sklearn\\utils\\validation.py:1300: DataConversionWarning: A column-vector y was passed when a 1d array was expected. Please change the shape of y to (n_samples, ), for example using ravel().\n",
      "  y = column_or_1d(y, warn=True)\n"
     ]
    },
    {
     "name": "stdout",
     "output_type": "stream",
     "text": [
      "[CV 1/5] END alpha=1.0, fit_prior=True, force_alpha=True;, score=0.649 total time=   0.0s\n",
      "[CV 2/5] END alpha=1.0, fit_prior=True, force_alpha=True;, score=0.876 total time=   0.1s\n"
     ]
    },
    {
     "name": "stderr",
     "output_type": "stream",
     "text": [
      "C:\\ProgramData\\anaconda3\\Lib\\site-packages\\sklearn\\utils\\validation.py:1300: DataConversionWarning: A column-vector y was passed when a 1d array was expected. Please change the shape of y to (n_samples, ), for example using ravel().\n",
      "  y = column_or_1d(y, warn=True)\n",
      "C:\\ProgramData\\anaconda3\\Lib\\site-packages\\sklearn\\utils\\validation.py:1300: DataConversionWarning: A column-vector y was passed when a 1d array was expected. Please change the shape of y to (n_samples, ), for example using ravel().\n",
      "  y = column_or_1d(y, warn=True)\n",
      "C:\\ProgramData\\anaconda3\\Lib\\site-packages\\sklearn\\utils\\validation.py:1300: DataConversionWarning: A column-vector y was passed when a 1d array was expected. Please change the shape of y to (n_samples, ), for example using ravel().\n",
      "  y = column_or_1d(y, warn=True)\n"
     ]
    },
    {
     "name": "stdout",
     "output_type": "stream",
     "text": [
      "[CV 3/5] END alpha=1.0, fit_prior=True, force_alpha=True;, score=0.915 total time=   0.1s\n",
      "[CV 4/5] END alpha=1.0, fit_prior=True, force_alpha=True;, score=0.913 total time=   0.1s\n",
      "[CV 5/5] END alpha=1.0, fit_prior=True, force_alpha=True;, score=0.938 total time=   0.1s\n"
     ]
    },
    {
     "name": "stderr",
     "output_type": "stream",
     "text": [
      "C:\\ProgramData\\anaconda3\\Lib\\site-packages\\sklearn\\utils\\validation.py:1300: DataConversionWarning: A column-vector y was passed when a 1d array was expected. Please change the shape of y to (n_samples, ), for example using ravel().\n",
      "  y = column_or_1d(y, warn=True)\n",
      "C:\\ProgramData\\anaconda3\\Lib\\site-packages\\sklearn\\utils\\validation.py:1300: DataConversionWarning: A column-vector y was passed when a 1d array was expected. Please change the shape of y to (n_samples, ), for example using ravel().\n",
      "  y = column_or_1d(y, warn=True)\n"
     ]
    },
    {
     "name": "stdout",
     "output_type": "stream",
     "text": [
      "[CV 1/5] END alpha=1.0, fit_prior=True, force_alpha=False;, score=0.649 total time=   0.1s\n",
      "[CV 2/5] END alpha=1.0, fit_prior=True, force_alpha=False;, score=0.876 total time=   0.1s\n"
     ]
    },
    {
     "name": "stderr",
     "output_type": "stream",
     "text": [
      "C:\\ProgramData\\anaconda3\\Lib\\site-packages\\sklearn\\utils\\validation.py:1300: DataConversionWarning: A column-vector y was passed when a 1d array was expected. Please change the shape of y to (n_samples, ), for example using ravel().\n",
      "  y = column_or_1d(y, warn=True)\n",
      "C:\\ProgramData\\anaconda3\\Lib\\site-packages\\sklearn\\utils\\validation.py:1300: DataConversionWarning: A column-vector y was passed when a 1d array was expected. Please change the shape of y to (n_samples, ), for example using ravel().\n",
      "  y = column_or_1d(y, warn=True)\n"
     ]
    },
    {
     "name": "stdout",
     "output_type": "stream",
     "text": [
      "[CV 3/5] END alpha=1.0, fit_prior=True, force_alpha=False;, score=0.915 total time=   0.1s\n",
      "[CV 4/5] END alpha=1.0, fit_prior=True, force_alpha=False;, score=0.913 total time=   0.1s\n"
     ]
    },
    {
     "name": "stderr",
     "output_type": "stream",
     "text": [
      "C:\\ProgramData\\anaconda3\\Lib\\site-packages\\sklearn\\utils\\validation.py:1300: DataConversionWarning: A column-vector y was passed when a 1d array was expected. Please change the shape of y to (n_samples, ), for example using ravel().\n",
      "  y = column_or_1d(y, warn=True)\n",
      "C:\\ProgramData\\anaconda3\\Lib\\site-packages\\sklearn\\utils\\validation.py:1300: DataConversionWarning: A column-vector y was passed when a 1d array was expected. Please change the shape of y to (n_samples, ), for example using ravel().\n",
      "  y = column_or_1d(y, warn=True)\n"
     ]
    },
    {
     "name": "stdout",
     "output_type": "stream",
     "text": [
      "[CV 5/5] END alpha=1.0, fit_prior=True, force_alpha=False;, score=0.938 total time=   0.1s\n",
      "[CV 1/5] END alpha=1.0, fit_prior=False, force_alpha=True;, score=0.649 total time=   0.1s\n"
     ]
    },
    {
     "name": "stderr",
     "output_type": "stream",
     "text": [
      "C:\\ProgramData\\anaconda3\\Lib\\site-packages\\sklearn\\utils\\validation.py:1300: DataConversionWarning: A column-vector y was passed when a 1d array was expected. Please change the shape of y to (n_samples, ), for example using ravel().\n",
      "  y = column_or_1d(y, warn=True)\n",
      "C:\\ProgramData\\anaconda3\\Lib\\site-packages\\sklearn\\utils\\validation.py:1300: DataConversionWarning: A column-vector y was passed when a 1d array was expected. Please change the shape of y to (n_samples, ), for example using ravel().\n",
      "  y = column_or_1d(y, warn=True)\n"
     ]
    },
    {
     "name": "stdout",
     "output_type": "stream",
     "text": [
      "[CV 2/5] END alpha=1.0, fit_prior=False, force_alpha=True;, score=0.876 total time=   0.1s\n",
      "[CV 3/5] END alpha=1.0, fit_prior=False, force_alpha=True;, score=0.915 total time=   0.1s\n"
     ]
    },
    {
     "name": "stderr",
     "output_type": "stream",
     "text": [
      "C:\\ProgramData\\anaconda3\\Lib\\site-packages\\sklearn\\utils\\validation.py:1300: DataConversionWarning: A column-vector y was passed when a 1d array was expected. Please change the shape of y to (n_samples, ), for example using ravel().\n",
      "  y = column_or_1d(y, warn=True)\n",
      "C:\\ProgramData\\anaconda3\\Lib\\site-packages\\sklearn\\utils\\validation.py:1300: DataConversionWarning: A column-vector y was passed when a 1d array was expected. Please change the shape of y to (n_samples, ), for example using ravel().\n",
      "  y = column_or_1d(y, warn=True)\n"
     ]
    },
    {
     "name": "stdout",
     "output_type": "stream",
     "text": [
      "[CV 4/5] END alpha=1.0, fit_prior=False, force_alpha=True;, score=0.913 total time=   0.1s\n",
      "[CV 5/5] END alpha=1.0, fit_prior=False, force_alpha=True;, score=0.938 total time=   0.1s\n"
     ]
    },
    {
     "name": "stderr",
     "output_type": "stream",
     "text": [
      "C:\\ProgramData\\anaconda3\\Lib\\site-packages\\sklearn\\utils\\validation.py:1300: DataConversionWarning: A column-vector y was passed when a 1d array was expected. Please change the shape of y to (n_samples, ), for example using ravel().\n",
      "  y = column_or_1d(y, warn=True)\n",
      "C:\\ProgramData\\anaconda3\\Lib\\site-packages\\sklearn\\utils\\validation.py:1300: DataConversionWarning: A column-vector y was passed when a 1d array was expected. Please change the shape of y to (n_samples, ), for example using ravel().\n",
      "  y = column_or_1d(y, warn=True)\n"
     ]
    },
    {
     "name": "stdout",
     "output_type": "stream",
     "text": [
      "[CV 1/5] END alpha=1.0, fit_prior=False, force_alpha=False;, score=0.649 total time=   0.1s\n",
      "[CV 2/5] END alpha=1.0, fit_prior=False, force_alpha=False;, score=0.876 total time=   0.0s\n"
     ]
    },
    {
     "name": "stderr",
     "output_type": "stream",
     "text": [
      "C:\\ProgramData\\anaconda3\\Lib\\site-packages\\sklearn\\utils\\validation.py:1300: DataConversionWarning: A column-vector y was passed when a 1d array was expected. Please change the shape of y to (n_samples, ), for example using ravel().\n",
      "  y = column_or_1d(y, warn=True)\n",
      "C:\\ProgramData\\anaconda3\\Lib\\site-packages\\sklearn\\utils\\validation.py:1300: DataConversionWarning: A column-vector y was passed when a 1d array was expected. Please change the shape of y to (n_samples, ), for example using ravel().\n",
      "  y = column_or_1d(y, warn=True)\n"
     ]
    },
    {
     "name": "stdout",
     "output_type": "stream",
     "text": [
      "[CV 3/5] END alpha=1.0, fit_prior=False, force_alpha=False;, score=0.915 total time=   0.1s\n",
      "[CV 4/5] END alpha=1.0, fit_prior=False, force_alpha=False;, score=0.913 total time=   0.1s\n"
     ]
    },
    {
     "name": "stderr",
     "output_type": "stream",
     "text": [
      "C:\\ProgramData\\anaconda3\\Lib\\site-packages\\sklearn\\utils\\validation.py:1300: DataConversionWarning: A column-vector y was passed when a 1d array was expected. Please change the shape of y to (n_samples, ), for example using ravel().\n",
      "  y = column_or_1d(y, warn=True)\n",
      "C:\\ProgramData\\anaconda3\\Lib\\site-packages\\sklearn\\utils\\validation.py:1300: DataConversionWarning: A column-vector y was passed when a 1d array was expected. Please change the shape of y to (n_samples, ), for example using ravel().\n",
      "  y = column_or_1d(y, warn=True)\n"
     ]
    },
    {
     "name": "stdout",
     "output_type": "stream",
     "text": [
      "[CV 5/5] END alpha=1.0, fit_prior=False, force_alpha=False;, score=0.938 total time=   0.1s\n"
     ]
    },
    {
     "name": "stderr",
     "output_type": "stream",
     "text": [
      "C:\\ProgramData\\anaconda3\\Lib\\site-packages\\sklearn\\utils\\validation.py:1300: DataConversionWarning: A column-vector y was passed when a 1d array was expected. Please change the shape of y to (n_samples, ), for example using ravel().\n",
      "  y = column_or_1d(y, warn=True)\n"
     ]
    },
    {
     "data": {
      "text/html": [
       "<style>#sk-container-id-2 {\n",
       "  /* Definition of color scheme common for light and dark mode */\n",
       "  --sklearn-color-text: black;\n",
       "  --sklearn-color-line: gray;\n",
       "  /* Definition of color scheme for unfitted estimators */\n",
       "  --sklearn-color-unfitted-level-0: #fff5e6;\n",
       "  --sklearn-color-unfitted-level-1: #f6e4d2;\n",
       "  --sklearn-color-unfitted-level-2: #ffe0b3;\n",
       "  --sklearn-color-unfitted-level-3: chocolate;\n",
       "  /* Definition of color scheme for fitted estimators */\n",
       "  --sklearn-color-fitted-level-0: #f0f8ff;\n",
       "  --sklearn-color-fitted-level-1: #d4ebff;\n",
       "  --sklearn-color-fitted-level-2: #b3dbfd;\n",
       "  --sklearn-color-fitted-level-3: cornflowerblue;\n",
       "\n",
       "  /* Specific color for light theme */\n",
       "  --sklearn-color-text-on-default-background: var(--sg-text-color, var(--theme-code-foreground, var(--jp-content-font-color1, black)));\n",
       "  --sklearn-color-background: var(--sg-background-color, var(--theme-background, var(--jp-layout-color0, white)));\n",
       "  --sklearn-color-border-box: var(--sg-text-color, var(--theme-code-foreground, var(--jp-content-font-color1, black)));\n",
       "  --sklearn-color-icon: #696969;\n",
       "\n",
       "  @media (prefers-color-scheme: dark) {\n",
       "    /* Redefinition of color scheme for dark theme */\n",
       "    --sklearn-color-text-on-default-background: var(--sg-text-color, var(--theme-code-foreground, var(--jp-content-font-color1, white)));\n",
       "    --sklearn-color-background: var(--sg-background-color, var(--theme-background, var(--jp-layout-color0, #111)));\n",
       "    --sklearn-color-border-box: var(--sg-text-color, var(--theme-code-foreground, var(--jp-content-font-color1, white)));\n",
       "    --sklearn-color-icon: #878787;\n",
       "  }\n",
       "}\n",
       "\n",
       "#sk-container-id-2 {\n",
       "  color: var(--sklearn-color-text);\n",
       "}\n",
       "\n",
       "#sk-container-id-2 pre {\n",
       "  padding: 0;\n",
       "}\n",
       "\n",
       "#sk-container-id-2 input.sk-hidden--visually {\n",
       "  border: 0;\n",
       "  clip: rect(1px 1px 1px 1px);\n",
       "  clip: rect(1px, 1px, 1px, 1px);\n",
       "  height: 1px;\n",
       "  margin: -1px;\n",
       "  overflow: hidden;\n",
       "  padding: 0;\n",
       "  position: absolute;\n",
       "  width: 1px;\n",
       "}\n",
       "\n",
       "#sk-container-id-2 div.sk-dashed-wrapped {\n",
       "  border: 1px dashed var(--sklearn-color-line);\n",
       "  margin: 0 0.4em 0.5em 0.4em;\n",
       "  box-sizing: border-box;\n",
       "  padding-bottom: 0.4em;\n",
       "  background-color: var(--sklearn-color-background);\n",
       "}\n",
       "\n",
       "#sk-container-id-2 div.sk-container {\n",
       "  /* jupyter's `normalize.less` sets `[hidden] { display: none; }`\n",
       "     but bootstrap.min.css set `[hidden] { display: none !important; }`\n",
       "     so we also need the `!important` here to be able to override the\n",
       "     default hidden behavior on the sphinx rendered scikit-learn.org.\n",
       "     See: https://github.com/scikit-learn/scikit-learn/issues/21755 */\n",
       "  display: inline-block !important;\n",
       "  position: relative;\n",
       "}\n",
       "\n",
       "#sk-container-id-2 div.sk-text-repr-fallback {\n",
       "  display: none;\n",
       "}\n",
       "\n",
       "div.sk-parallel-item,\n",
       "div.sk-serial,\n",
       "div.sk-item {\n",
       "  /* draw centered vertical line to link estimators */\n",
       "  background-image: linear-gradient(var(--sklearn-color-text-on-default-background), var(--sklearn-color-text-on-default-background));\n",
       "  background-size: 2px 100%;\n",
       "  background-repeat: no-repeat;\n",
       "  background-position: center center;\n",
       "}\n",
       "\n",
       "/* Parallel-specific style estimator block */\n",
       "\n",
       "#sk-container-id-2 div.sk-parallel-item::after {\n",
       "  content: \"\";\n",
       "  width: 100%;\n",
       "  border-bottom: 2px solid var(--sklearn-color-text-on-default-background);\n",
       "  flex-grow: 1;\n",
       "}\n",
       "\n",
       "#sk-container-id-2 div.sk-parallel {\n",
       "  display: flex;\n",
       "  align-items: stretch;\n",
       "  justify-content: center;\n",
       "  background-color: var(--sklearn-color-background);\n",
       "  position: relative;\n",
       "}\n",
       "\n",
       "#sk-container-id-2 div.sk-parallel-item {\n",
       "  display: flex;\n",
       "  flex-direction: column;\n",
       "}\n",
       "\n",
       "#sk-container-id-2 div.sk-parallel-item:first-child::after {\n",
       "  align-self: flex-end;\n",
       "  width: 50%;\n",
       "}\n",
       "\n",
       "#sk-container-id-2 div.sk-parallel-item:last-child::after {\n",
       "  align-self: flex-start;\n",
       "  width: 50%;\n",
       "}\n",
       "\n",
       "#sk-container-id-2 div.sk-parallel-item:only-child::after {\n",
       "  width: 0;\n",
       "}\n",
       "\n",
       "/* Serial-specific style estimator block */\n",
       "\n",
       "#sk-container-id-2 div.sk-serial {\n",
       "  display: flex;\n",
       "  flex-direction: column;\n",
       "  align-items: center;\n",
       "  background-color: var(--sklearn-color-background);\n",
       "  padding-right: 1em;\n",
       "  padding-left: 1em;\n",
       "}\n",
       "\n",
       "\n",
       "/* Toggleable style: style used for estimator/Pipeline/ColumnTransformer box that is\n",
       "clickable and can be expanded/collapsed.\n",
       "- Pipeline and ColumnTransformer use this feature and define the default style\n",
       "- Estimators will overwrite some part of the style using the `sk-estimator` class\n",
       "*/\n",
       "\n",
       "/* Pipeline and ColumnTransformer style (default) */\n",
       "\n",
       "#sk-container-id-2 div.sk-toggleable {\n",
       "  /* Default theme specific background. It is overwritten whether we have a\n",
       "  specific estimator or a Pipeline/ColumnTransformer */\n",
       "  background-color: var(--sklearn-color-background);\n",
       "}\n",
       "\n",
       "/* Toggleable label */\n",
       "#sk-container-id-2 label.sk-toggleable__label {\n",
       "  cursor: pointer;\n",
       "  display: block;\n",
       "  width: 100%;\n",
       "  margin-bottom: 0;\n",
       "  padding: 0.5em;\n",
       "  box-sizing: border-box;\n",
       "  text-align: center;\n",
       "}\n",
       "\n",
       "#sk-container-id-2 label.sk-toggleable__label-arrow:before {\n",
       "  /* Arrow on the left of the label */\n",
       "  content: \"▸\";\n",
       "  float: left;\n",
       "  margin-right: 0.25em;\n",
       "  color: var(--sklearn-color-icon);\n",
       "}\n",
       "\n",
       "#sk-container-id-2 label.sk-toggleable__label-arrow:hover:before {\n",
       "  color: var(--sklearn-color-text);\n",
       "}\n",
       "\n",
       "/* Toggleable content - dropdown */\n",
       "\n",
       "#sk-container-id-2 div.sk-toggleable__content {\n",
       "  max-height: 0;\n",
       "  max-width: 0;\n",
       "  overflow: hidden;\n",
       "  text-align: left;\n",
       "  /* unfitted */\n",
       "  background-color: var(--sklearn-color-unfitted-level-0);\n",
       "}\n",
       "\n",
       "#sk-container-id-2 div.sk-toggleable__content.fitted {\n",
       "  /* fitted */\n",
       "  background-color: var(--sklearn-color-fitted-level-0);\n",
       "}\n",
       "\n",
       "#sk-container-id-2 div.sk-toggleable__content pre {\n",
       "  margin: 0.2em;\n",
       "  border-radius: 0.25em;\n",
       "  color: var(--sklearn-color-text);\n",
       "  /* unfitted */\n",
       "  background-color: var(--sklearn-color-unfitted-level-0);\n",
       "}\n",
       "\n",
       "#sk-container-id-2 div.sk-toggleable__content.fitted pre {\n",
       "  /* unfitted */\n",
       "  background-color: var(--sklearn-color-fitted-level-0);\n",
       "}\n",
       "\n",
       "#sk-container-id-2 input.sk-toggleable__control:checked~div.sk-toggleable__content {\n",
       "  /* Expand drop-down */\n",
       "  max-height: 200px;\n",
       "  max-width: 100%;\n",
       "  overflow: auto;\n",
       "}\n",
       "\n",
       "#sk-container-id-2 input.sk-toggleable__control:checked~label.sk-toggleable__label-arrow:before {\n",
       "  content: \"▾\";\n",
       "}\n",
       "\n",
       "/* Pipeline/ColumnTransformer-specific style */\n",
       "\n",
       "#sk-container-id-2 div.sk-label input.sk-toggleable__control:checked~label.sk-toggleable__label {\n",
       "  color: var(--sklearn-color-text);\n",
       "  background-color: var(--sklearn-color-unfitted-level-2);\n",
       "}\n",
       "\n",
       "#sk-container-id-2 div.sk-label.fitted input.sk-toggleable__control:checked~label.sk-toggleable__label {\n",
       "  background-color: var(--sklearn-color-fitted-level-2);\n",
       "}\n",
       "\n",
       "/* Estimator-specific style */\n",
       "\n",
       "/* Colorize estimator box */\n",
       "#sk-container-id-2 div.sk-estimator input.sk-toggleable__control:checked~label.sk-toggleable__label {\n",
       "  /* unfitted */\n",
       "  background-color: var(--sklearn-color-unfitted-level-2);\n",
       "}\n",
       "\n",
       "#sk-container-id-2 div.sk-estimator.fitted input.sk-toggleable__control:checked~label.sk-toggleable__label {\n",
       "  /* fitted */\n",
       "  background-color: var(--sklearn-color-fitted-level-2);\n",
       "}\n",
       "\n",
       "#sk-container-id-2 div.sk-label label.sk-toggleable__label,\n",
       "#sk-container-id-2 div.sk-label label {\n",
       "  /* The background is the default theme color */\n",
       "  color: var(--sklearn-color-text-on-default-background);\n",
       "}\n",
       "\n",
       "/* On hover, darken the color of the background */\n",
       "#sk-container-id-2 div.sk-label:hover label.sk-toggleable__label {\n",
       "  color: var(--sklearn-color-text);\n",
       "  background-color: var(--sklearn-color-unfitted-level-2);\n",
       "}\n",
       "\n",
       "/* Label box, darken color on hover, fitted */\n",
       "#sk-container-id-2 div.sk-label.fitted:hover label.sk-toggleable__label.fitted {\n",
       "  color: var(--sklearn-color-text);\n",
       "  background-color: var(--sklearn-color-fitted-level-2);\n",
       "}\n",
       "\n",
       "/* Estimator label */\n",
       "\n",
       "#sk-container-id-2 div.sk-label label {\n",
       "  font-family: monospace;\n",
       "  font-weight: bold;\n",
       "  display: inline-block;\n",
       "  line-height: 1.2em;\n",
       "}\n",
       "\n",
       "#sk-container-id-2 div.sk-label-container {\n",
       "  text-align: center;\n",
       "}\n",
       "\n",
       "/* Estimator-specific */\n",
       "#sk-container-id-2 div.sk-estimator {\n",
       "  font-family: monospace;\n",
       "  border: 1px dotted var(--sklearn-color-border-box);\n",
       "  border-radius: 0.25em;\n",
       "  box-sizing: border-box;\n",
       "  margin-bottom: 0.5em;\n",
       "  /* unfitted */\n",
       "  background-color: var(--sklearn-color-unfitted-level-0);\n",
       "}\n",
       "\n",
       "#sk-container-id-2 div.sk-estimator.fitted {\n",
       "  /* fitted */\n",
       "  background-color: var(--sklearn-color-fitted-level-0);\n",
       "}\n",
       "\n",
       "/* on hover */\n",
       "#sk-container-id-2 div.sk-estimator:hover {\n",
       "  /* unfitted */\n",
       "  background-color: var(--sklearn-color-unfitted-level-2);\n",
       "}\n",
       "\n",
       "#sk-container-id-2 div.sk-estimator.fitted:hover {\n",
       "  /* fitted */\n",
       "  background-color: var(--sklearn-color-fitted-level-2);\n",
       "}\n",
       "\n",
       "/* Specification for estimator info (e.g. \"i\" and \"?\") */\n",
       "\n",
       "/* Common style for \"i\" and \"?\" */\n",
       "\n",
       ".sk-estimator-doc-link,\n",
       "a:link.sk-estimator-doc-link,\n",
       "a:visited.sk-estimator-doc-link {\n",
       "  float: right;\n",
       "  font-size: smaller;\n",
       "  line-height: 1em;\n",
       "  font-family: monospace;\n",
       "  background-color: var(--sklearn-color-background);\n",
       "  border-radius: 1em;\n",
       "  height: 1em;\n",
       "  width: 1em;\n",
       "  text-decoration: none !important;\n",
       "  margin-left: 1ex;\n",
       "  /* unfitted */\n",
       "  border: var(--sklearn-color-unfitted-level-1) 1pt solid;\n",
       "  color: var(--sklearn-color-unfitted-level-1);\n",
       "}\n",
       "\n",
       ".sk-estimator-doc-link.fitted,\n",
       "a:link.sk-estimator-doc-link.fitted,\n",
       "a:visited.sk-estimator-doc-link.fitted {\n",
       "  /* fitted */\n",
       "  border: var(--sklearn-color-fitted-level-1) 1pt solid;\n",
       "  color: var(--sklearn-color-fitted-level-1);\n",
       "}\n",
       "\n",
       "/* On hover */\n",
       "div.sk-estimator:hover .sk-estimator-doc-link:hover,\n",
       ".sk-estimator-doc-link:hover,\n",
       "div.sk-label-container:hover .sk-estimator-doc-link:hover,\n",
       ".sk-estimator-doc-link:hover {\n",
       "  /* unfitted */\n",
       "  background-color: var(--sklearn-color-unfitted-level-3);\n",
       "  color: var(--sklearn-color-background);\n",
       "  text-decoration: none;\n",
       "}\n",
       "\n",
       "div.sk-estimator.fitted:hover .sk-estimator-doc-link.fitted:hover,\n",
       ".sk-estimator-doc-link.fitted:hover,\n",
       "div.sk-label-container:hover .sk-estimator-doc-link.fitted:hover,\n",
       ".sk-estimator-doc-link.fitted:hover {\n",
       "  /* fitted */\n",
       "  background-color: var(--sklearn-color-fitted-level-3);\n",
       "  color: var(--sklearn-color-background);\n",
       "  text-decoration: none;\n",
       "}\n",
       "\n",
       "/* Span, style for the box shown on hovering the info icon */\n",
       ".sk-estimator-doc-link span {\n",
       "  display: none;\n",
       "  z-index: 9999;\n",
       "  position: relative;\n",
       "  font-weight: normal;\n",
       "  right: .2ex;\n",
       "  padding: .5ex;\n",
       "  margin: .5ex;\n",
       "  width: min-content;\n",
       "  min-width: 20ex;\n",
       "  max-width: 50ex;\n",
       "  color: var(--sklearn-color-text);\n",
       "  box-shadow: 2pt 2pt 4pt #999;\n",
       "  /* unfitted */\n",
       "  background: var(--sklearn-color-unfitted-level-0);\n",
       "  border: .5pt solid var(--sklearn-color-unfitted-level-3);\n",
       "}\n",
       "\n",
       ".sk-estimator-doc-link.fitted span {\n",
       "  /* fitted */\n",
       "  background: var(--sklearn-color-fitted-level-0);\n",
       "  border: var(--sklearn-color-fitted-level-3);\n",
       "}\n",
       "\n",
       ".sk-estimator-doc-link:hover span {\n",
       "  display: block;\n",
       "}\n",
       "\n",
       "/* \"?\"-specific style due to the `<a>` HTML tag */\n",
       "\n",
       "#sk-container-id-2 a.estimator_doc_link {\n",
       "  float: right;\n",
       "  font-size: 1rem;\n",
       "  line-height: 1em;\n",
       "  font-family: monospace;\n",
       "  background-color: var(--sklearn-color-background);\n",
       "  border-radius: 1rem;\n",
       "  height: 1rem;\n",
       "  width: 1rem;\n",
       "  text-decoration: none;\n",
       "  /* unfitted */\n",
       "  color: var(--sklearn-color-unfitted-level-1);\n",
       "  border: var(--sklearn-color-unfitted-level-1) 1pt solid;\n",
       "}\n",
       "\n",
       "#sk-container-id-2 a.estimator_doc_link.fitted {\n",
       "  /* fitted */\n",
       "  border: var(--sklearn-color-fitted-level-1) 1pt solid;\n",
       "  color: var(--sklearn-color-fitted-level-1);\n",
       "}\n",
       "\n",
       "/* On hover */\n",
       "#sk-container-id-2 a.estimator_doc_link:hover {\n",
       "  /* unfitted */\n",
       "  background-color: var(--sklearn-color-unfitted-level-3);\n",
       "  color: var(--sklearn-color-background);\n",
       "  text-decoration: none;\n",
       "}\n",
       "\n",
       "#sk-container-id-2 a.estimator_doc_link.fitted:hover {\n",
       "  /* fitted */\n",
       "  background-color: var(--sklearn-color-fitted-level-3);\n",
       "}\n",
       "</style><div id=\"sk-container-id-2\" class=\"sk-top-container\"><div class=\"sk-text-repr-fallback\"><pre>GridSearchCV(estimator=ComplementNB(),\n",
       "             param_grid={&#x27;alpha&#x27;: [0.1, 0.2, 0.3, 0.4, 0.5, 0.6, 0.7, 0.8, 0.9,\n",
       "                                   1.0],\n",
       "                         &#x27;fit_prior&#x27;: [True, False],\n",
       "                         &#x27;force_alpha&#x27;: [True, False]},\n",
       "             scoring=&#x27;f1&#x27;, verbose=3)</pre><b>In a Jupyter environment, please rerun this cell to show the HTML representation or trust the notebook. <br />On GitHub, the HTML representation is unable to render, please try loading this page with nbviewer.org.</b></div><div class=\"sk-container\" hidden><div class=\"sk-item sk-dashed-wrapped\"><div class=\"sk-label-container\"><div class=\"sk-label fitted sk-toggleable\"><input class=\"sk-toggleable__control sk-hidden--visually\" id=\"sk-estimator-id-4\" type=\"checkbox\" ><label for=\"sk-estimator-id-4\" class=\"sk-toggleable__label fitted sk-toggleable__label-arrow fitted\">&nbsp;&nbsp;GridSearchCV<a class=\"sk-estimator-doc-link fitted\" rel=\"noreferrer\" target=\"_blank\" href=\"https://scikit-learn.org/1.4/modules/generated/sklearn.model_selection.GridSearchCV.html\">?<span>Documentation for GridSearchCV</span></a><span class=\"sk-estimator-doc-link fitted\">i<span>Fitted</span></span></label><div class=\"sk-toggleable__content fitted\"><pre>GridSearchCV(estimator=ComplementNB(),\n",
       "             param_grid={&#x27;alpha&#x27;: [0.1, 0.2, 0.3, 0.4, 0.5, 0.6, 0.7, 0.8, 0.9,\n",
       "                                   1.0],\n",
       "                         &#x27;fit_prior&#x27;: [True, False],\n",
       "                         &#x27;force_alpha&#x27;: [True, False]},\n",
       "             scoring=&#x27;f1&#x27;, verbose=3)</pre></div> </div></div><div class=\"sk-parallel\"><div class=\"sk-parallel-item\"><div class=\"sk-item\"><div class=\"sk-label-container\"><div class=\"sk-label fitted sk-toggleable\"><input class=\"sk-toggleable__control sk-hidden--visually\" id=\"sk-estimator-id-5\" type=\"checkbox\" ><label for=\"sk-estimator-id-5\" class=\"sk-toggleable__label fitted sk-toggleable__label-arrow fitted\">estimator: ComplementNB</label><div class=\"sk-toggleable__content fitted\"><pre>ComplementNB()</pre></div> </div></div><div class=\"sk-serial\"><div class=\"sk-item\"><div class=\"sk-estimator fitted sk-toggleable\"><input class=\"sk-toggleable__control sk-hidden--visually\" id=\"sk-estimator-id-6\" type=\"checkbox\" ><label for=\"sk-estimator-id-6\" class=\"sk-toggleable__label fitted sk-toggleable__label-arrow fitted\">&nbsp;ComplementNB<a class=\"sk-estimator-doc-link fitted\" rel=\"noreferrer\" target=\"_blank\" href=\"https://scikit-learn.org/1.4/modules/generated/sklearn.naive_bayes.ComplementNB.html\">?<span>Documentation for ComplementNB</span></a></label><div class=\"sk-toggleable__content fitted\"><pre>ComplementNB()</pre></div> </div></div></div></div></div></div></div></div></div>"
      ],
      "text/plain": [
       "GridSearchCV(estimator=ComplementNB(),\n",
       "             param_grid={'alpha': [0.1, 0.2, 0.3, 0.4, 0.5, 0.6, 0.7, 0.8, 0.9,\n",
       "                                   1.0],\n",
       "                         'fit_prior': [True, False],\n",
       "                         'force_alpha': [True, False]},\n",
       "             scoring='f1', verbose=3)"
      ]
     },
     "execution_count": 23,
     "metadata": {},
     "output_type": "execute_result"
    }
   ],
   "source": [
    "from sklearn.naive_bayes import ComplementNB\n",
    "from sklearn.model_selection import GridSearchCV\n",
    "grid_param = {\n",
    "    'alpha': [0.1, 0.2, 0.3, 0.4, 0.5, 0.6, 0.7, 0.8, 0.9, 1.0],\n",
    "    'force_alpha':[True,False], \n",
    "    'fit_prior' : [True, False]\n",
    "}\n",
    "\n",
    "grid = GridSearchCV(ComplementNB(), grid_param, refit = True, verbose=3, scoring='f1')\n",
    "grid.fit(independent, dependent)"
   ]
  },
  {
   "cell_type": "code",
   "execution_count": 24,
   "id": "93ba12c8-c3e3-42a4-839a-a68f68d2708f",
   "metadata": {},
   "outputs": [],
   "source": [
    "grid_pred = grid.predict(independent)"
   ]
  },
  {
   "cell_type": "code",
   "execution_count": 25,
   "id": "f258ef8a-f6d7-4a90-82bc-72a8e14cc1bd",
   "metadata": {},
   "outputs": [],
   "source": [
    "from sklearn.metrics import confusion_matrix\n",
    "cf_matrix = confusion_matrix(dependent, grid_pred)"
   ]
  },
  {
   "cell_type": "code",
   "execution_count": 26,
   "id": "73df1d08-fc29-4361-932a-004f23e13f76",
   "metadata": {},
   "outputs": [],
   "source": [
    "from sklearn.metrics import classification_report\n",
    "cf_report = classification_report(dependent, grid_pred)"
   ]
  },
  {
   "cell_type": "code",
   "execution_count": 27,
   "id": "e18d6957-0b16-4411-82c6-2debc8bf5d8c",
   "metadata": {},
   "outputs": [
    {
     "name": "stdout",
     "output_type": "stream",
     "text": [
      "[[145   5]\n",
      " [ 39 210]]\n",
      "              precision    recall  f1-score   support\n",
      "\n",
      "           0       0.79      0.97      0.87       150\n",
      "           1       0.98      0.84      0.91       249\n",
      "\n",
      "    accuracy                           0.89       399\n",
      "   macro avg       0.88      0.91      0.89       399\n",
      "weighted avg       0.91      0.89      0.89       399\n",
      "\n"
     ]
    }
   ],
   "source": [
    "print(cf_matrix)\n",
    "print(cf_report)"
   ]
  },
  {
   "cell_type": "code",
   "execution_count": 28,
   "id": "65f82192-ab9d-457c-b04a-63d36f2b8d87",
   "metadata": {},
   "outputs": [
    {
     "data": {
      "text/plain": [
       "0.9623025435073628"
      ]
     },
     "execution_count": 28,
     "metadata": {},
     "output_type": "execute_result"
    }
   ],
   "source": [
    "from sklearn.metrics import roc_auc_score\n",
    "roc_auc_score(dependent, grid.predict_proba(independent)[:,1])"
   ]
  },
  {
   "cell_type": "code",
   "execution_count": 29,
   "id": "1b273c7d-f231-4c89-81bd-1278b0d77b57",
   "metadata": {},
   "outputs": [
    {
     "name": "stdout",
     "output_type": "stream",
     "text": [
      "evaluation metrics {'alpha': 0.1, 'fit_prior': True, 'force_alpha': True}: 0.8912968721618211\n"
     ]
    }
   ],
   "source": [
    "from sklearn.metrics import f1_score\n",
    "f1_score = f1_score(dependent, grid_pred, average = 'weighted')\n",
    "print(\"evaluation metrics {}:\".format(grid.best_params_),f1_score)"
   ]
  },
  {
   "cell_type": "code",
   "execution_count": 30,
   "id": "b27e2124-f70b-42a8-a0b9-8db56a393eb7",
   "metadata": {},
   "outputs": [
    {
     "data": {
      "text/html": [
       "<div>\n",
       "<style scoped>\n",
       "    .dataframe tbody tr th:only-of-type {\n",
       "        vertical-align: middle;\n",
       "    }\n",
       "\n",
       "    .dataframe tbody tr th {\n",
       "        vertical-align: top;\n",
       "    }\n",
       "\n",
       "    .dataframe thead th {\n",
       "        text-align: right;\n",
       "    }\n",
       "</style>\n",
       "<table border=\"1\" class=\"dataframe\">\n",
       "  <thead>\n",
       "    <tr style=\"text-align: right;\">\n",
       "      <th></th>\n",
       "      <th>mean_fit_time</th>\n",
       "      <th>std_fit_time</th>\n",
       "      <th>mean_score_time</th>\n",
       "      <th>std_score_time</th>\n",
       "      <th>param_alpha</th>\n",
       "      <th>param_fit_prior</th>\n",
       "      <th>param_force_alpha</th>\n",
       "      <th>params</th>\n",
       "      <th>split0_test_score</th>\n",
       "      <th>split1_test_score</th>\n",
       "      <th>split2_test_score</th>\n",
       "      <th>split3_test_score</th>\n",
       "      <th>split4_test_score</th>\n",
       "      <th>mean_test_score</th>\n",
       "      <th>std_test_score</th>\n",
       "      <th>rank_test_score</th>\n",
       "    </tr>\n",
       "  </thead>\n",
       "  <tbody>\n",
       "    <tr>\n",
       "      <th>0</th>\n",
       "      <td>0.063606</td>\n",
       "      <td>0.022815</td>\n",
       "      <td>0.069674</td>\n",
       "      <td>0.015320</td>\n",
       "      <td>0.1</td>\n",
       "      <td>True</td>\n",
       "      <td>True</td>\n",
       "      <td>{'alpha': 0.1, 'fit_prior': True, 'force_alpha...</td>\n",
       "      <td>0.700000</td>\n",
       "      <td>0.913043</td>\n",
       "      <td>0.948454</td>\n",
       "      <td>0.936170</td>\n",
       "      <td>0.948454</td>\n",
       "      <td>0.889224</td>\n",
       "      <td>0.095492</td>\n",
       "      <td>1</td>\n",
       "    </tr>\n",
       "    <tr>\n",
       "      <th>1</th>\n",
       "      <td>0.070611</td>\n",
       "      <td>0.013215</td>\n",
       "      <td>0.081673</td>\n",
       "      <td>0.020947</td>\n",
       "      <td>0.1</td>\n",
       "      <td>True</td>\n",
       "      <td>False</td>\n",
       "      <td>{'alpha': 0.1, 'fit_prior': True, 'force_alpha...</td>\n",
       "      <td>0.700000</td>\n",
       "      <td>0.913043</td>\n",
       "      <td>0.948454</td>\n",
       "      <td>0.936170</td>\n",
       "      <td>0.948454</td>\n",
       "      <td>0.889224</td>\n",
       "      <td>0.095492</td>\n",
       "      <td>1</td>\n",
       "    </tr>\n",
       "    <tr>\n",
       "      <th>2</th>\n",
       "      <td>0.066255</td>\n",
       "      <td>0.013016</td>\n",
       "      <td>0.071305</td>\n",
       "      <td>0.006343</td>\n",
       "      <td>0.1</td>\n",
       "      <td>False</td>\n",
       "      <td>True</td>\n",
       "      <td>{'alpha': 0.1, 'fit_prior': False, 'force_alph...</td>\n",
       "      <td>0.700000</td>\n",
       "      <td>0.913043</td>\n",
       "      <td>0.948454</td>\n",
       "      <td>0.936170</td>\n",
       "      <td>0.948454</td>\n",
       "      <td>0.889224</td>\n",
       "      <td>0.095492</td>\n",
       "      <td>1</td>\n",
       "    </tr>\n",
       "    <tr>\n",
       "      <th>3</th>\n",
       "      <td>0.063669</td>\n",
       "      <td>0.008361</td>\n",
       "      <td>0.070758</td>\n",
       "      <td>0.010454</td>\n",
       "      <td>0.1</td>\n",
       "      <td>False</td>\n",
       "      <td>False</td>\n",
       "      <td>{'alpha': 0.1, 'fit_prior': False, 'force_alph...</td>\n",
       "      <td>0.700000</td>\n",
       "      <td>0.913043</td>\n",
       "      <td>0.948454</td>\n",
       "      <td>0.936170</td>\n",
       "      <td>0.948454</td>\n",
       "      <td>0.889224</td>\n",
       "      <td>0.095492</td>\n",
       "      <td>1</td>\n",
       "    </tr>\n",
       "    <tr>\n",
       "      <th>4</th>\n",
       "      <td>0.071189</td>\n",
       "      <td>0.016558</td>\n",
       "      <td>0.066652</td>\n",
       "      <td>0.016442</td>\n",
       "      <td>0.2</td>\n",
       "      <td>True</td>\n",
       "      <td>True</td>\n",
       "      <td>{'alpha': 0.2, 'fit_prior': True, 'force_alpha...</td>\n",
       "      <td>0.666667</td>\n",
       "      <td>0.901099</td>\n",
       "      <td>0.937500</td>\n",
       "      <td>0.936170</td>\n",
       "      <td>0.937500</td>\n",
       "      <td>0.875787</td>\n",
       "      <td>0.105485</td>\n",
       "      <td>5</td>\n",
       "    </tr>\n",
       "    <tr>\n",
       "      <th>5</th>\n",
       "      <td>0.072790</td>\n",
       "      <td>0.024702</td>\n",
       "      <td>0.071153</td>\n",
       "      <td>0.009105</td>\n",
       "      <td>0.2</td>\n",
       "      <td>True</td>\n",
       "      <td>False</td>\n",
       "      <td>{'alpha': 0.2, 'fit_prior': True, 'force_alpha...</td>\n",
       "      <td>0.666667</td>\n",
       "      <td>0.901099</td>\n",
       "      <td>0.937500</td>\n",
       "      <td>0.936170</td>\n",
       "      <td>0.937500</td>\n",
       "      <td>0.875787</td>\n",
       "      <td>0.105485</td>\n",
       "      <td>5</td>\n",
       "    </tr>\n",
       "    <tr>\n",
       "      <th>6</th>\n",
       "      <td>0.071637</td>\n",
       "      <td>0.016148</td>\n",
       "      <td>0.065227</td>\n",
       "      <td>0.014965</td>\n",
       "      <td>0.2</td>\n",
       "      <td>False</td>\n",
       "      <td>True</td>\n",
       "      <td>{'alpha': 0.2, 'fit_prior': False, 'force_alph...</td>\n",
       "      <td>0.666667</td>\n",
       "      <td>0.901099</td>\n",
       "      <td>0.937500</td>\n",
       "      <td>0.936170</td>\n",
       "      <td>0.937500</td>\n",
       "      <td>0.875787</td>\n",
       "      <td>0.105485</td>\n",
       "      <td>5</td>\n",
       "    </tr>\n",
       "    <tr>\n",
       "      <th>7</th>\n",
       "      <td>0.068649</td>\n",
       "      <td>0.007685</td>\n",
       "      <td>0.061824</td>\n",
       "      <td>0.008606</td>\n",
       "      <td>0.2</td>\n",
       "      <td>False</td>\n",
       "      <td>False</td>\n",
       "      <td>{'alpha': 0.2, 'fit_prior': False, 'force_alph...</td>\n",
       "      <td>0.666667</td>\n",
       "      <td>0.901099</td>\n",
       "      <td>0.937500</td>\n",
       "      <td>0.936170</td>\n",
       "      <td>0.937500</td>\n",
       "      <td>0.875787</td>\n",
       "      <td>0.105485</td>\n",
       "      <td>5</td>\n",
       "    </tr>\n",
       "    <tr>\n",
       "      <th>8</th>\n",
       "      <td>0.051237</td>\n",
       "      <td>0.003238</td>\n",
       "      <td>0.080638</td>\n",
       "      <td>0.021994</td>\n",
       "      <td>0.3</td>\n",
       "      <td>True</td>\n",
       "      <td>True</td>\n",
       "      <td>{'alpha': 0.3, 'fit_prior': True, 'force_alpha...</td>\n",
       "      <td>0.666667</td>\n",
       "      <td>0.901099</td>\n",
       "      <td>0.937500</td>\n",
       "      <td>0.936170</td>\n",
       "      <td>0.937500</td>\n",
       "      <td>0.875787</td>\n",
       "      <td>0.105485</td>\n",
       "      <td>5</td>\n",
       "    </tr>\n",
       "    <tr>\n",
       "      <th>9</th>\n",
       "      <td>0.063215</td>\n",
       "      <td>0.014503</td>\n",
       "      <td>0.075728</td>\n",
       "      <td>0.015569</td>\n",
       "      <td>0.3</td>\n",
       "      <td>True</td>\n",
       "      <td>False</td>\n",
       "      <td>{'alpha': 0.3, 'fit_prior': True, 'force_alpha...</td>\n",
       "      <td>0.666667</td>\n",
       "      <td>0.901099</td>\n",
       "      <td>0.937500</td>\n",
       "      <td>0.936170</td>\n",
       "      <td>0.937500</td>\n",
       "      <td>0.875787</td>\n",
       "      <td>0.105485</td>\n",
       "      <td>5</td>\n",
       "    </tr>\n",
       "    <tr>\n",
       "      <th>10</th>\n",
       "      <td>0.061575</td>\n",
       "      <td>0.010387</td>\n",
       "      <td>0.064486</td>\n",
       "      <td>0.010436</td>\n",
       "      <td>0.3</td>\n",
       "      <td>False</td>\n",
       "      <td>True</td>\n",
       "      <td>{'alpha': 0.3, 'fit_prior': False, 'force_alph...</td>\n",
       "      <td>0.666667</td>\n",
       "      <td>0.901099</td>\n",
       "      <td>0.937500</td>\n",
       "      <td>0.936170</td>\n",
       "      <td>0.937500</td>\n",
       "      <td>0.875787</td>\n",
       "      <td>0.105485</td>\n",
       "      <td>5</td>\n",
       "    </tr>\n",
       "    <tr>\n",
       "      <th>11</th>\n",
       "      <td>0.058968</td>\n",
       "      <td>0.009139</td>\n",
       "      <td>0.067208</td>\n",
       "      <td>0.016837</td>\n",
       "      <td>0.3</td>\n",
       "      <td>False</td>\n",
       "      <td>False</td>\n",
       "      <td>{'alpha': 0.3, 'fit_prior': False, 'force_alph...</td>\n",
       "      <td>0.666667</td>\n",
       "      <td>0.901099</td>\n",
       "      <td>0.937500</td>\n",
       "      <td>0.936170</td>\n",
       "      <td>0.937500</td>\n",
       "      <td>0.875787</td>\n",
       "      <td>0.105485</td>\n",
       "      <td>5</td>\n",
       "    </tr>\n",
       "    <tr>\n",
       "      <th>12</th>\n",
       "      <td>0.050721</td>\n",
       "      <td>0.006051</td>\n",
       "      <td>0.068632</td>\n",
       "      <td>0.007034</td>\n",
       "      <td>0.4</td>\n",
       "      <td>True</td>\n",
       "      <td>True</td>\n",
       "      <td>{'alpha': 0.4, 'fit_prior': True, 'force_alpha...</td>\n",
       "      <td>0.666667</td>\n",
       "      <td>0.901099</td>\n",
       "      <td>0.926316</td>\n",
       "      <td>0.936170</td>\n",
       "      <td>0.937500</td>\n",
       "      <td>0.873550</td>\n",
       "      <td>0.104264</td>\n",
       "      <td>13</td>\n",
       "    </tr>\n",
       "    <tr>\n",
       "      <th>13</th>\n",
       "      <td>0.057490</td>\n",
       "      <td>0.007713</td>\n",
       "      <td>0.064429</td>\n",
       "      <td>0.009605</td>\n",
       "      <td>0.4</td>\n",
       "      <td>True</td>\n",
       "      <td>False</td>\n",
       "      <td>{'alpha': 0.4, 'fit_prior': True, 'force_alpha...</td>\n",
       "      <td>0.666667</td>\n",
       "      <td>0.901099</td>\n",
       "      <td>0.926316</td>\n",
       "      <td>0.936170</td>\n",
       "      <td>0.937500</td>\n",
       "      <td>0.873550</td>\n",
       "      <td>0.104264</td>\n",
       "      <td>13</td>\n",
       "    </tr>\n",
       "    <tr>\n",
       "      <th>14</th>\n",
       "      <td>0.070520</td>\n",
       "      <td>0.014761</td>\n",
       "      <td>0.066576</td>\n",
       "      <td>0.011086</td>\n",
       "      <td>0.4</td>\n",
       "      <td>False</td>\n",
       "      <td>True</td>\n",
       "      <td>{'alpha': 0.4, 'fit_prior': False, 'force_alph...</td>\n",
       "      <td>0.666667</td>\n",
       "      <td>0.901099</td>\n",
       "      <td>0.926316</td>\n",
       "      <td>0.936170</td>\n",
       "      <td>0.937500</td>\n",
       "      <td>0.873550</td>\n",
       "      <td>0.104264</td>\n",
       "      <td>13</td>\n",
       "    </tr>\n",
       "    <tr>\n",
       "      <th>15</th>\n",
       "      <td>0.102500</td>\n",
       "      <td>0.058575</td>\n",
       "      <td>0.074779</td>\n",
       "      <td>0.014439</td>\n",
       "      <td>0.4</td>\n",
       "      <td>False</td>\n",
       "      <td>False</td>\n",
       "      <td>{'alpha': 0.4, 'fit_prior': False, 'force_alph...</td>\n",
       "      <td>0.666667</td>\n",
       "      <td>0.901099</td>\n",
       "      <td>0.926316</td>\n",
       "      <td>0.936170</td>\n",
       "      <td>0.937500</td>\n",
       "      <td>0.873550</td>\n",
       "      <td>0.104264</td>\n",
       "      <td>13</td>\n",
       "    </tr>\n",
       "    <tr>\n",
       "      <th>16</th>\n",
       "      <td>0.088601</td>\n",
       "      <td>0.016154</td>\n",
       "      <td>0.086046</td>\n",
       "      <td>0.038574</td>\n",
       "      <td>0.5</td>\n",
       "      <td>True</td>\n",
       "      <td>True</td>\n",
       "      <td>{'alpha': 0.5, 'fit_prior': True, 'force_alpha...</td>\n",
       "      <td>0.666667</td>\n",
       "      <td>0.901099</td>\n",
       "      <td>0.926316</td>\n",
       "      <td>0.936170</td>\n",
       "      <td>0.937500</td>\n",
       "      <td>0.873550</td>\n",
       "      <td>0.104264</td>\n",
       "      <td>13</td>\n",
       "    </tr>\n",
       "    <tr>\n",
       "      <th>17</th>\n",
       "      <td>0.054260</td>\n",
       "      <td>0.009404</td>\n",
       "      <td>0.065960</td>\n",
       "      <td>0.009961</td>\n",
       "      <td>0.5</td>\n",
       "      <td>True</td>\n",
       "      <td>False</td>\n",
       "      <td>{'alpha': 0.5, 'fit_prior': True, 'force_alpha...</td>\n",
       "      <td>0.666667</td>\n",
       "      <td>0.901099</td>\n",
       "      <td>0.926316</td>\n",
       "      <td>0.936170</td>\n",
       "      <td>0.937500</td>\n",
       "      <td>0.873550</td>\n",
       "      <td>0.104264</td>\n",
       "      <td>13</td>\n",
       "    </tr>\n",
       "    <tr>\n",
       "      <th>18</th>\n",
       "      <td>0.064783</td>\n",
       "      <td>0.021817</td>\n",
       "      <td>0.077572</td>\n",
       "      <td>0.017987</td>\n",
       "      <td>0.5</td>\n",
       "      <td>False</td>\n",
       "      <td>True</td>\n",
       "      <td>{'alpha': 0.5, 'fit_prior': False, 'force_alph...</td>\n",
       "      <td>0.666667</td>\n",
       "      <td>0.901099</td>\n",
       "      <td>0.926316</td>\n",
       "      <td>0.936170</td>\n",
       "      <td>0.937500</td>\n",
       "      <td>0.873550</td>\n",
       "      <td>0.104264</td>\n",
       "      <td>13</td>\n",
       "    </tr>\n",
       "    <tr>\n",
       "      <th>19</th>\n",
       "      <td>0.071737</td>\n",
       "      <td>0.014565</td>\n",
       "      <td>0.077825</td>\n",
       "      <td>0.011089</td>\n",
       "      <td>0.5</td>\n",
       "      <td>False</td>\n",
       "      <td>False</td>\n",
       "      <td>{'alpha': 0.5, 'fit_prior': False, 'force_alph...</td>\n",
       "      <td>0.666667</td>\n",
       "      <td>0.901099</td>\n",
       "      <td>0.926316</td>\n",
       "      <td>0.936170</td>\n",
       "      <td>0.937500</td>\n",
       "      <td>0.873550</td>\n",
       "      <td>0.104264</td>\n",
       "      <td>13</td>\n",
       "    </tr>\n",
       "    <tr>\n",
       "      <th>20</th>\n",
       "      <td>0.053502</td>\n",
       "      <td>0.007574</td>\n",
       "      <td>0.083521</td>\n",
       "      <td>0.016704</td>\n",
       "      <td>0.6</td>\n",
       "      <td>True</td>\n",
       "      <td>True</td>\n",
       "      <td>{'alpha': 0.6, 'fit_prior': True, 'force_alpha...</td>\n",
       "      <td>0.666667</td>\n",
       "      <td>0.888889</td>\n",
       "      <td>0.926316</td>\n",
       "      <td>0.936170</td>\n",
       "      <td>0.937500</td>\n",
       "      <td>0.871108</td>\n",
       "      <td>0.103732</td>\n",
       "      <td>21</td>\n",
       "    </tr>\n",
       "    <tr>\n",
       "      <th>21</th>\n",
       "      <td>0.061726</td>\n",
       "      <td>0.011178</td>\n",
       "      <td>0.070785</td>\n",
       "      <td>0.014322</td>\n",
       "      <td>0.6</td>\n",
       "      <td>True</td>\n",
       "      <td>False</td>\n",
       "      <td>{'alpha': 0.6, 'fit_prior': True, 'force_alpha...</td>\n",
       "      <td>0.666667</td>\n",
       "      <td>0.888889</td>\n",
       "      <td>0.926316</td>\n",
       "      <td>0.936170</td>\n",
       "      <td>0.937500</td>\n",
       "      <td>0.871108</td>\n",
       "      <td>0.103732</td>\n",
       "      <td>21</td>\n",
       "    </tr>\n",
       "    <tr>\n",
       "      <th>22</th>\n",
       "      <td>0.086152</td>\n",
       "      <td>0.021278</td>\n",
       "      <td>0.075040</td>\n",
       "      <td>0.015740</td>\n",
       "      <td>0.6</td>\n",
       "      <td>False</td>\n",
       "      <td>True</td>\n",
       "      <td>{'alpha': 0.6, 'fit_prior': False, 'force_alph...</td>\n",
       "      <td>0.666667</td>\n",
       "      <td>0.888889</td>\n",
       "      <td>0.926316</td>\n",
       "      <td>0.936170</td>\n",
       "      <td>0.937500</td>\n",
       "      <td>0.871108</td>\n",
       "      <td>0.103732</td>\n",
       "      <td>21</td>\n",
       "    </tr>\n",
       "    <tr>\n",
       "      <th>23</th>\n",
       "      <td>0.058081</td>\n",
       "      <td>0.019059</td>\n",
       "      <td>0.071983</td>\n",
       "      <td>0.022030</td>\n",
       "      <td>0.6</td>\n",
       "      <td>False</td>\n",
       "      <td>False</td>\n",
       "      <td>{'alpha': 0.6, 'fit_prior': False, 'force_alph...</td>\n",
       "      <td>0.666667</td>\n",
       "      <td>0.888889</td>\n",
       "      <td>0.926316</td>\n",
       "      <td>0.936170</td>\n",
       "      <td>0.937500</td>\n",
       "      <td>0.871108</td>\n",
       "      <td>0.103732</td>\n",
       "      <td>21</td>\n",
       "    </tr>\n",
       "    <tr>\n",
       "      <th>24</th>\n",
       "      <td>0.070774</td>\n",
       "      <td>0.023246</td>\n",
       "      <td>0.071820</td>\n",
       "      <td>0.018045</td>\n",
       "      <td>0.7</td>\n",
       "      <td>True</td>\n",
       "      <td>True</td>\n",
       "      <td>{'alpha': 0.7, 'fit_prior': True, 'force_alpha...</td>\n",
       "      <td>0.649351</td>\n",
       "      <td>0.888889</td>\n",
       "      <td>0.926316</td>\n",
       "      <td>0.924731</td>\n",
       "      <td>0.937500</td>\n",
       "      <td>0.865357</td>\n",
       "      <td>0.109232</td>\n",
       "      <td>25</td>\n",
       "    </tr>\n",
       "    <tr>\n",
       "      <th>25</th>\n",
       "      <td>0.067543</td>\n",
       "      <td>0.014298</td>\n",
       "      <td>0.074109</td>\n",
       "      <td>0.014857</td>\n",
       "      <td>0.7</td>\n",
       "      <td>True</td>\n",
       "      <td>False</td>\n",
       "      <td>{'alpha': 0.7, 'fit_prior': True, 'force_alpha...</td>\n",
       "      <td>0.649351</td>\n",
       "      <td>0.888889</td>\n",
       "      <td>0.926316</td>\n",
       "      <td>0.924731</td>\n",
       "      <td>0.937500</td>\n",
       "      <td>0.865357</td>\n",
       "      <td>0.109232</td>\n",
       "      <td>25</td>\n",
       "    </tr>\n",
       "    <tr>\n",
       "      <th>26</th>\n",
       "      <td>0.067675</td>\n",
       "      <td>0.019487</td>\n",
       "      <td>0.066285</td>\n",
       "      <td>0.007713</td>\n",
       "      <td>0.7</td>\n",
       "      <td>False</td>\n",
       "      <td>True</td>\n",
       "      <td>{'alpha': 0.7, 'fit_prior': False, 'force_alph...</td>\n",
       "      <td>0.649351</td>\n",
       "      <td>0.888889</td>\n",
       "      <td>0.926316</td>\n",
       "      <td>0.924731</td>\n",
       "      <td>0.937500</td>\n",
       "      <td>0.865357</td>\n",
       "      <td>0.109232</td>\n",
       "      <td>25</td>\n",
       "    </tr>\n",
       "    <tr>\n",
       "      <th>27</th>\n",
       "      <td>0.062916</td>\n",
       "      <td>0.013299</td>\n",
       "      <td>0.080730</td>\n",
       "      <td>0.017171</td>\n",
       "      <td>0.7</td>\n",
       "      <td>False</td>\n",
       "      <td>False</td>\n",
       "      <td>{'alpha': 0.7, 'fit_prior': False, 'force_alph...</td>\n",
       "      <td>0.649351</td>\n",
       "      <td>0.888889</td>\n",
       "      <td>0.926316</td>\n",
       "      <td>0.924731</td>\n",
       "      <td>0.937500</td>\n",
       "      <td>0.865357</td>\n",
       "      <td>0.109232</td>\n",
       "      <td>25</td>\n",
       "    </tr>\n",
       "    <tr>\n",
       "      <th>28</th>\n",
       "      <td>0.079482</td>\n",
       "      <td>0.012043</td>\n",
       "      <td>0.062664</td>\n",
       "      <td>0.016987</td>\n",
       "      <td>0.8</td>\n",
       "      <td>True</td>\n",
       "      <td>True</td>\n",
       "      <td>{'alpha': 0.8, 'fit_prior': True, 'force_alpha...</td>\n",
       "      <td>0.649351</td>\n",
       "      <td>0.876404</td>\n",
       "      <td>0.926316</td>\n",
       "      <td>0.924731</td>\n",
       "      <td>0.937500</td>\n",
       "      <td>0.862860</td>\n",
       "      <td>0.108808</td>\n",
       "      <td>29</td>\n",
       "    </tr>\n",
       "    <tr>\n",
       "      <th>29</th>\n",
       "      <td>0.065774</td>\n",
       "      <td>0.019623</td>\n",
       "      <td>0.084751</td>\n",
       "      <td>0.012143</td>\n",
       "      <td>0.8</td>\n",
       "      <td>True</td>\n",
       "      <td>False</td>\n",
       "      <td>{'alpha': 0.8, 'fit_prior': True, 'force_alpha...</td>\n",
       "      <td>0.649351</td>\n",
       "      <td>0.876404</td>\n",
       "      <td>0.926316</td>\n",
       "      <td>0.924731</td>\n",
       "      <td>0.937500</td>\n",
       "      <td>0.862860</td>\n",
       "      <td>0.108808</td>\n",
       "      <td>29</td>\n",
       "    </tr>\n",
       "    <tr>\n",
       "      <th>30</th>\n",
       "      <td>0.069640</td>\n",
       "      <td>0.021186</td>\n",
       "      <td>0.080831</td>\n",
       "      <td>0.016568</td>\n",
       "      <td>0.8</td>\n",
       "      <td>False</td>\n",
       "      <td>True</td>\n",
       "      <td>{'alpha': 0.8, 'fit_prior': False, 'force_alph...</td>\n",
       "      <td>0.649351</td>\n",
       "      <td>0.876404</td>\n",
       "      <td>0.926316</td>\n",
       "      <td>0.924731</td>\n",
       "      <td>0.937500</td>\n",
       "      <td>0.862860</td>\n",
       "      <td>0.108808</td>\n",
       "      <td>29</td>\n",
       "    </tr>\n",
       "    <tr>\n",
       "      <th>31</th>\n",
       "      <td>0.063392</td>\n",
       "      <td>0.009832</td>\n",
       "      <td>0.068432</td>\n",
       "      <td>0.008109</td>\n",
       "      <td>0.8</td>\n",
       "      <td>False</td>\n",
       "      <td>False</td>\n",
       "      <td>{'alpha': 0.8, 'fit_prior': False, 'force_alph...</td>\n",
       "      <td>0.649351</td>\n",
       "      <td>0.876404</td>\n",
       "      <td>0.926316</td>\n",
       "      <td>0.924731</td>\n",
       "      <td>0.937500</td>\n",
       "      <td>0.862860</td>\n",
       "      <td>0.108808</td>\n",
       "      <td>29</td>\n",
       "    </tr>\n",
       "    <tr>\n",
       "      <th>32</th>\n",
       "      <td>0.075797</td>\n",
       "      <td>0.011114</td>\n",
       "      <td>0.081951</td>\n",
       "      <td>0.021232</td>\n",
       "      <td>0.9</td>\n",
       "      <td>True</td>\n",
       "      <td>True</td>\n",
       "      <td>{'alpha': 0.9, 'fit_prior': True, 'force_alpha...</td>\n",
       "      <td>0.649351</td>\n",
       "      <td>0.876404</td>\n",
       "      <td>0.914894</td>\n",
       "      <td>0.913043</td>\n",
       "      <td>0.937500</td>\n",
       "      <td>0.858238</td>\n",
       "      <td>0.106264</td>\n",
       "      <td>33</td>\n",
       "    </tr>\n",
       "    <tr>\n",
       "      <th>33</th>\n",
       "      <td>0.088307</td>\n",
       "      <td>0.004622</td>\n",
       "      <td>0.092466</td>\n",
       "      <td>0.006611</td>\n",
       "      <td>0.9</td>\n",
       "      <td>True</td>\n",
       "      <td>False</td>\n",
       "      <td>{'alpha': 0.9, 'fit_prior': True, 'force_alpha...</td>\n",
       "      <td>0.649351</td>\n",
       "      <td>0.876404</td>\n",
       "      <td>0.914894</td>\n",
       "      <td>0.913043</td>\n",
       "      <td>0.937500</td>\n",
       "      <td>0.858238</td>\n",
       "      <td>0.106264</td>\n",
       "      <td>33</td>\n",
       "    </tr>\n",
       "    <tr>\n",
       "      <th>34</th>\n",
       "      <td>0.086693</td>\n",
       "      <td>0.027705</td>\n",
       "      <td>0.097280</td>\n",
       "      <td>0.011298</td>\n",
       "      <td>0.9</td>\n",
       "      <td>False</td>\n",
       "      <td>True</td>\n",
       "      <td>{'alpha': 0.9, 'fit_prior': False, 'force_alph...</td>\n",
       "      <td>0.649351</td>\n",
       "      <td>0.876404</td>\n",
       "      <td>0.914894</td>\n",
       "      <td>0.913043</td>\n",
       "      <td>0.937500</td>\n",
       "      <td>0.858238</td>\n",
       "      <td>0.106264</td>\n",
       "      <td>33</td>\n",
       "    </tr>\n",
       "    <tr>\n",
       "      <th>35</th>\n",
       "      <td>0.090699</td>\n",
       "      <td>0.011532</td>\n",
       "      <td>0.070807</td>\n",
       "      <td>0.009899</td>\n",
       "      <td>0.9</td>\n",
       "      <td>False</td>\n",
       "      <td>False</td>\n",
       "      <td>{'alpha': 0.9, 'fit_prior': False, 'force_alph...</td>\n",
       "      <td>0.649351</td>\n",
       "      <td>0.876404</td>\n",
       "      <td>0.914894</td>\n",
       "      <td>0.913043</td>\n",
       "      <td>0.937500</td>\n",
       "      <td>0.858238</td>\n",
       "      <td>0.106264</td>\n",
       "      <td>33</td>\n",
       "    </tr>\n",
       "    <tr>\n",
       "      <th>36</th>\n",
       "      <td>0.090282</td>\n",
       "      <td>0.021909</td>\n",
       "      <td>0.095074</td>\n",
       "      <td>0.009234</td>\n",
       "      <td>1.0</td>\n",
       "      <td>True</td>\n",
       "      <td>True</td>\n",
       "      <td>{'alpha': 1.0, 'fit_prior': True, 'force_alpha...</td>\n",
       "      <td>0.649351</td>\n",
       "      <td>0.876404</td>\n",
       "      <td>0.914894</td>\n",
       "      <td>0.913043</td>\n",
       "      <td>0.937500</td>\n",
       "      <td>0.858238</td>\n",
       "      <td>0.106264</td>\n",
       "      <td>33</td>\n",
       "    </tr>\n",
       "    <tr>\n",
       "      <th>37</th>\n",
       "      <td>0.083076</td>\n",
       "      <td>0.007410</td>\n",
       "      <td>0.097181</td>\n",
       "      <td>0.015471</td>\n",
       "      <td>1.0</td>\n",
       "      <td>True</td>\n",
       "      <td>False</td>\n",
       "      <td>{'alpha': 1.0, 'fit_prior': True, 'force_alpha...</td>\n",
       "      <td>0.649351</td>\n",
       "      <td>0.876404</td>\n",
       "      <td>0.914894</td>\n",
       "      <td>0.913043</td>\n",
       "      <td>0.937500</td>\n",
       "      <td>0.858238</td>\n",
       "      <td>0.106264</td>\n",
       "      <td>33</td>\n",
       "    </tr>\n",
       "    <tr>\n",
       "      <th>38</th>\n",
       "      <td>0.079421</td>\n",
       "      <td>0.019082</td>\n",
       "      <td>0.092994</td>\n",
       "      <td>0.007918</td>\n",
       "      <td>1.0</td>\n",
       "      <td>False</td>\n",
       "      <td>True</td>\n",
       "      <td>{'alpha': 1.0, 'fit_prior': False, 'force_alph...</td>\n",
       "      <td>0.649351</td>\n",
       "      <td>0.876404</td>\n",
       "      <td>0.914894</td>\n",
       "      <td>0.913043</td>\n",
       "      <td>0.937500</td>\n",
       "      <td>0.858238</td>\n",
       "      <td>0.106264</td>\n",
       "      <td>33</td>\n",
       "    </tr>\n",
       "    <tr>\n",
       "      <th>39</th>\n",
       "      <td>0.074195</td>\n",
       "      <td>0.017364</td>\n",
       "      <td>0.093280</td>\n",
       "      <td>0.026175</td>\n",
       "      <td>1.0</td>\n",
       "      <td>False</td>\n",
       "      <td>False</td>\n",
       "      <td>{'alpha': 1.0, 'fit_prior': False, 'force_alph...</td>\n",
       "      <td>0.649351</td>\n",
       "      <td>0.876404</td>\n",
       "      <td>0.914894</td>\n",
       "      <td>0.913043</td>\n",
       "      <td>0.937500</td>\n",
       "      <td>0.858238</td>\n",
       "      <td>0.106264</td>\n",
       "      <td>33</td>\n",
       "    </tr>\n",
       "  </tbody>\n",
       "</table>\n",
       "</div>"
      ],
      "text/plain": [
       "    mean_fit_time  std_fit_time  mean_score_time  std_score_time param_alpha  \\\n",
       "0        0.063606      0.022815         0.069674        0.015320         0.1   \n",
       "1        0.070611      0.013215         0.081673        0.020947         0.1   \n",
       "2        0.066255      0.013016         0.071305        0.006343         0.1   \n",
       "3        0.063669      0.008361         0.070758        0.010454         0.1   \n",
       "4        0.071189      0.016558         0.066652        0.016442         0.2   \n",
       "5        0.072790      0.024702         0.071153        0.009105         0.2   \n",
       "6        0.071637      0.016148         0.065227        0.014965         0.2   \n",
       "7        0.068649      0.007685         0.061824        0.008606         0.2   \n",
       "8        0.051237      0.003238         0.080638        0.021994         0.3   \n",
       "9        0.063215      0.014503         0.075728        0.015569         0.3   \n",
       "10       0.061575      0.010387         0.064486        0.010436         0.3   \n",
       "11       0.058968      0.009139         0.067208        0.016837         0.3   \n",
       "12       0.050721      0.006051         0.068632        0.007034         0.4   \n",
       "13       0.057490      0.007713         0.064429        0.009605         0.4   \n",
       "14       0.070520      0.014761         0.066576        0.011086         0.4   \n",
       "15       0.102500      0.058575         0.074779        0.014439         0.4   \n",
       "16       0.088601      0.016154         0.086046        0.038574         0.5   \n",
       "17       0.054260      0.009404         0.065960        0.009961         0.5   \n",
       "18       0.064783      0.021817         0.077572        0.017987         0.5   \n",
       "19       0.071737      0.014565         0.077825        0.011089         0.5   \n",
       "20       0.053502      0.007574         0.083521        0.016704         0.6   \n",
       "21       0.061726      0.011178         0.070785        0.014322         0.6   \n",
       "22       0.086152      0.021278         0.075040        0.015740         0.6   \n",
       "23       0.058081      0.019059         0.071983        0.022030         0.6   \n",
       "24       0.070774      0.023246         0.071820        0.018045         0.7   \n",
       "25       0.067543      0.014298         0.074109        0.014857         0.7   \n",
       "26       0.067675      0.019487         0.066285        0.007713         0.7   \n",
       "27       0.062916      0.013299         0.080730        0.017171         0.7   \n",
       "28       0.079482      0.012043         0.062664        0.016987         0.8   \n",
       "29       0.065774      0.019623         0.084751        0.012143         0.8   \n",
       "30       0.069640      0.021186         0.080831        0.016568         0.8   \n",
       "31       0.063392      0.009832         0.068432        0.008109         0.8   \n",
       "32       0.075797      0.011114         0.081951        0.021232         0.9   \n",
       "33       0.088307      0.004622         0.092466        0.006611         0.9   \n",
       "34       0.086693      0.027705         0.097280        0.011298         0.9   \n",
       "35       0.090699      0.011532         0.070807        0.009899         0.9   \n",
       "36       0.090282      0.021909         0.095074        0.009234         1.0   \n",
       "37       0.083076      0.007410         0.097181        0.015471         1.0   \n",
       "38       0.079421      0.019082         0.092994        0.007918         1.0   \n",
       "39       0.074195      0.017364         0.093280        0.026175         1.0   \n",
       "\n",
       "   param_fit_prior param_force_alpha  \\\n",
       "0             True              True   \n",
       "1             True             False   \n",
       "2            False              True   \n",
       "3            False             False   \n",
       "4             True              True   \n",
       "5             True             False   \n",
       "6            False              True   \n",
       "7            False             False   \n",
       "8             True              True   \n",
       "9             True             False   \n",
       "10           False              True   \n",
       "11           False             False   \n",
       "12            True              True   \n",
       "13            True             False   \n",
       "14           False              True   \n",
       "15           False             False   \n",
       "16            True              True   \n",
       "17            True             False   \n",
       "18           False              True   \n",
       "19           False             False   \n",
       "20            True              True   \n",
       "21            True             False   \n",
       "22           False              True   \n",
       "23           False             False   \n",
       "24            True              True   \n",
       "25            True             False   \n",
       "26           False              True   \n",
       "27           False             False   \n",
       "28            True              True   \n",
       "29            True             False   \n",
       "30           False              True   \n",
       "31           False             False   \n",
       "32            True              True   \n",
       "33            True             False   \n",
       "34           False              True   \n",
       "35           False             False   \n",
       "36            True              True   \n",
       "37            True             False   \n",
       "38           False              True   \n",
       "39           False             False   \n",
       "\n",
       "                                               params  split0_test_score  \\\n",
       "0   {'alpha': 0.1, 'fit_prior': True, 'force_alpha...           0.700000   \n",
       "1   {'alpha': 0.1, 'fit_prior': True, 'force_alpha...           0.700000   \n",
       "2   {'alpha': 0.1, 'fit_prior': False, 'force_alph...           0.700000   \n",
       "3   {'alpha': 0.1, 'fit_prior': False, 'force_alph...           0.700000   \n",
       "4   {'alpha': 0.2, 'fit_prior': True, 'force_alpha...           0.666667   \n",
       "5   {'alpha': 0.2, 'fit_prior': True, 'force_alpha...           0.666667   \n",
       "6   {'alpha': 0.2, 'fit_prior': False, 'force_alph...           0.666667   \n",
       "7   {'alpha': 0.2, 'fit_prior': False, 'force_alph...           0.666667   \n",
       "8   {'alpha': 0.3, 'fit_prior': True, 'force_alpha...           0.666667   \n",
       "9   {'alpha': 0.3, 'fit_prior': True, 'force_alpha...           0.666667   \n",
       "10  {'alpha': 0.3, 'fit_prior': False, 'force_alph...           0.666667   \n",
       "11  {'alpha': 0.3, 'fit_prior': False, 'force_alph...           0.666667   \n",
       "12  {'alpha': 0.4, 'fit_prior': True, 'force_alpha...           0.666667   \n",
       "13  {'alpha': 0.4, 'fit_prior': True, 'force_alpha...           0.666667   \n",
       "14  {'alpha': 0.4, 'fit_prior': False, 'force_alph...           0.666667   \n",
       "15  {'alpha': 0.4, 'fit_prior': False, 'force_alph...           0.666667   \n",
       "16  {'alpha': 0.5, 'fit_prior': True, 'force_alpha...           0.666667   \n",
       "17  {'alpha': 0.5, 'fit_prior': True, 'force_alpha...           0.666667   \n",
       "18  {'alpha': 0.5, 'fit_prior': False, 'force_alph...           0.666667   \n",
       "19  {'alpha': 0.5, 'fit_prior': False, 'force_alph...           0.666667   \n",
       "20  {'alpha': 0.6, 'fit_prior': True, 'force_alpha...           0.666667   \n",
       "21  {'alpha': 0.6, 'fit_prior': True, 'force_alpha...           0.666667   \n",
       "22  {'alpha': 0.6, 'fit_prior': False, 'force_alph...           0.666667   \n",
       "23  {'alpha': 0.6, 'fit_prior': False, 'force_alph...           0.666667   \n",
       "24  {'alpha': 0.7, 'fit_prior': True, 'force_alpha...           0.649351   \n",
       "25  {'alpha': 0.7, 'fit_prior': True, 'force_alpha...           0.649351   \n",
       "26  {'alpha': 0.7, 'fit_prior': False, 'force_alph...           0.649351   \n",
       "27  {'alpha': 0.7, 'fit_prior': False, 'force_alph...           0.649351   \n",
       "28  {'alpha': 0.8, 'fit_prior': True, 'force_alpha...           0.649351   \n",
       "29  {'alpha': 0.8, 'fit_prior': True, 'force_alpha...           0.649351   \n",
       "30  {'alpha': 0.8, 'fit_prior': False, 'force_alph...           0.649351   \n",
       "31  {'alpha': 0.8, 'fit_prior': False, 'force_alph...           0.649351   \n",
       "32  {'alpha': 0.9, 'fit_prior': True, 'force_alpha...           0.649351   \n",
       "33  {'alpha': 0.9, 'fit_prior': True, 'force_alpha...           0.649351   \n",
       "34  {'alpha': 0.9, 'fit_prior': False, 'force_alph...           0.649351   \n",
       "35  {'alpha': 0.9, 'fit_prior': False, 'force_alph...           0.649351   \n",
       "36  {'alpha': 1.0, 'fit_prior': True, 'force_alpha...           0.649351   \n",
       "37  {'alpha': 1.0, 'fit_prior': True, 'force_alpha...           0.649351   \n",
       "38  {'alpha': 1.0, 'fit_prior': False, 'force_alph...           0.649351   \n",
       "39  {'alpha': 1.0, 'fit_prior': False, 'force_alph...           0.649351   \n",
       "\n",
       "    split1_test_score  split2_test_score  split3_test_score  \\\n",
       "0            0.913043           0.948454           0.936170   \n",
       "1            0.913043           0.948454           0.936170   \n",
       "2            0.913043           0.948454           0.936170   \n",
       "3            0.913043           0.948454           0.936170   \n",
       "4            0.901099           0.937500           0.936170   \n",
       "5            0.901099           0.937500           0.936170   \n",
       "6            0.901099           0.937500           0.936170   \n",
       "7            0.901099           0.937500           0.936170   \n",
       "8            0.901099           0.937500           0.936170   \n",
       "9            0.901099           0.937500           0.936170   \n",
       "10           0.901099           0.937500           0.936170   \n",
       "11           0.901099           0.937500           0.936170   \n",
       "12           0.901099           0.926316           0.936170   \n",
       "13           0.901099           0.926316           0.936170   \n",
       "14           0.901099           0.926316           0.936170   \n",
       "15           0.901099           0.926316           0.936170   \n",
       "16           0.901099           0.926316           0.936170   \n",
       "17           0.901099           0.926316           0.936170   \n",
       "18           0.901099           0.926316           0.936170   \n",
       "19           0.901099           0.926316           0.936170   \n",
       "20           0.888889           0.926316           0.936170   \n",
       "21           0.888889           0.926316           0.936170   \n",
       "22           0.888889           0.926316           0.936170   \n",
       "23           0.888889           0.926316           0.936170   \n",
       "24           0.888889           0.926316           0.924731   \n",
       "25           0.888889           0.926316           0.924731   \n",
       "26           0.888889           0.926316           0.924731   \n",
       "27           0.888889           0.926316           0.924731   \n",
       "28           0.876404           0.926316           0.924731   \n",
       "29           0.876404           0.926316           0.924731   \n",
       "30           0.876404           0.926316           0.924731   \n",
       "31           0.876404           0.926316           0.924731   \n",
       "32           0.876404           0.914894           0.913043   \n",
       "33           0.876404           0.914894           0.913043   \n",
       "34           0.876404           0.914894           0.913043   \n",
       "35           0.876404           0.914894           0.913043   \n",
       "36           0.876404           0.914894           0.913043   \n",
       "37           0.876404           0.914894           0.913043   \n",
       "38           0.876404           0.914894           0.913043   \n",
       "39           0.876404           0.914894           0.913043   \n",
       "\n",
       "    split4_test_score  mean_test_score  std_test_score  rank_test_score  \n",
       "0            0.948454         0.889224        0.095492                1  \n",
       "1            0.948454         0.889224        0.095492                1  \n",
       "2            0.948454         0.889224        0.095492                1  \n",
       "3            0.948454         0.889224        0.095492                1  \n",
       "4            0.937500         0.875787        0.105485                5  \n",
       "5            0.937500         0.875787        0.105485                5  \n",
       "6            0.937500         0.875787        0.105485                5  \n",
       "7            0.937500         0.875787        0.105485                5  \n",
       "8            0.937500         0.875787        0.105485                5  \n",
       "9            0.937500         0.875787        0.105485                5  \n",
       "10           0.937500         0.875787        0.105485                5  \n",
       "11           0.937500         0.875787        0.105485                5  \n",
       "12           0.937500         0.873550        0.104264               13  \n",
       "13           0.937500         0.873550        0.104264               13  \n",
       "14           0.937500         0.873550        0.104264               13  \n",
       "15           0.937500         0.873550        0.104264               13  \n",
       "16           0.937500         0.873550        0.104264               13  \n",
       "17           0.937500         0.873550        0.104264               13  \n",
       "18           0.937500         0.873550        0.104264               13  \n",
       "19           0.937500         0.873550        0.104264               13  \n",
       "20           0.937500         0.871108        0.103732               21  \n",
       "21           0.937500         0.871108        0.103732               21  \n",
       "22           0.937500         0.871108        0.103732               21  \n",
       "23           0.937500         0.871108        0.103732               21  \n",
       "24           0.937500         0.865357        0.109232               25  \n",
       "25           0.937500         0.865357        0.109232               25  \n",
       "26           0.937500         0.865357        0.109232               25  \n",
       "27           0.937500         0.865357        0.109232               25  \n",
       "28           0.937500         0.862860        0.108808               29  \n",
       "29           0.937500         0.862860        0.108808               29  \n",
       "30           0.937500         0.862860        0.108808               29  \n",
       "31           0.937500         0.862860        0.108808               29  \n",
       "32           0.937500         0.858238        0.106264               33  \n",
       "33           0.937500         0.858238        0.106264               33  \n",
       "34           0.937500         0.858238        0.106264               33  \n",
       "35           0.937500         0.858238        0.106264               33  \n",
       "36           0.937500         0.858238        0.106264               33  \n",
       "37           0.937500         0.858238        0.106264               33  \n",
       "38           0.937500         0.858238        0.106264               33  \n",
       "39           0.937500         0.858238        0.106264               33  "
      ]
     },
     "execution_count": 30,
     "metadata": {},
     "output_type": "execute_result"
    }
   ],
   "source": [
    "re = grid.cv_results_\n",
    "table = pd.DataFrame.from_dict(re)\n",
    "table"
   ]
  },
  {
   "cell_type": "code",
   "execution_count": null,
   "id": "38da4f0e-be4e-450d-8c47-28d5546e3972",
   "metadata": {},
   "outputs": [],
   "source": []
  },
  {
   "cell_type": "code",
   "execution_count": null,
   "id": "63c72cb8-5654-488d-9bb8-ace5ab69bf88",
   "metadata": {},
   "outputs": [],
   "source": []
  }
 ],
 "metadata": {
  "kernelspec": {
   "display_name": "Python 3 (ipykernel)",
   "language": "python",
   "name": "python3"
  },
  "language_info": {
   "codemirror_mode": {
    "name": "ipython",
    "version": 3
   },
   "file_extension": ".py",
   "mimetype": "text/x-python",
   "name": "python",
   "nbconvert_exporter": "python",
   "pygments_lexer": "ipython3",
   "version": "3.12.4"
  }
 },
 "nbformat": 4,
 "nbformat_minor": 5
}
